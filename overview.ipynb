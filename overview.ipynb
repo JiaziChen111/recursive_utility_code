{
 "cells": [
  {
   "cell_type": "markdown",
   "metadata": {},
   "source": [
    "## Overview of the Spectral Radius Code"
   ]
  },
  {
   "cell_type": "markdown",
   "metadata": {},
   "source": [
    "By John Stachurski and Jaroslav Borovicka.  Please send questions or comments on the code to john.stachurski@gmail.com."
   ]
  },
  {
   "cell_type": "markdown",
   "metadata": {},
   "source": [
    "The primary aim of this code base is to compute the spectral radius of the operator $K$ defined by\n",
    "\n",
    "$$ Kg(x) = \n",
    "    \\int g(x') \\int \\exp((1-\\gamma) \\kappa(x, x', \\eta)) \\nu(d\\eta) Q(x, x')\n",
    "$$\n",
    "\n",
    "for different specifications of $\\kappa$, $\\nu$ and $Q$.  As discussed in the paper, the spectral radius $r(K)$ of this operator satisfies\n",
    "\n",
    "$$\n",
    "       r(K)\n",
    "        =\n",
    "        \\beta^\\theta \n",
    "        \\lim_{n \\to \\infty} \\,\n",
    "            \\sup_{x \\in \\mathbb X}\n",
    "        \\left\\{\n",
    "            \\mathbb E_x \\exp \\left[(1-\\gamma) \\ln \\left( \\frac{C_n}{C_0} \\right) \\right]\n",
    "        \\right\\}^{1/n}.\n",
    "$$\n",
    "\n",
    "In fact for the applications we consider ergodicity implies that the \n",
    "expectation is asymptotically independent of $x$, and hence we can replace this limit with the simpler expression\n",
    "\n",
    "\n",
    "$$\n",
    "        \\beta^\\theta \n",
    "        \\lim_{n \\to \\infty} \\,\n",
    "        \\left\\{\n",
    "             \\mathbb E\n",
    "             \\exp \\left[(1-\\gamma) \\ln \\left( \\frac{C_n}{C_0} \\right) \\right]\n",
    "        \\right\\}^{1/n},\n",
    "$$\n",
    "\n",
    "or, equivalently,\n",
    "\n",
    "$$\n",
    "        \\beta^\\theta \n",
    "        \\lim_{n \\to \\infty} \\,\n",
    "        \\left\\{\n",
    "             \\mathbb E\n",
    "             \\exp \\left[(1-\\gamma)  \\sum_{t=1}^n \n",
    "             \\kappa(X_{t-1}, X_t, \\eta_t) \\right]\n",
    "        \\right\\}^{1/n},\n",
    "$$\n",
    "\n",
    "We calculate this value by Monte Carlo.  First we set $n=N$, a large value, and then simulate $M$ paths of length $N$.  We then replace the term\n",
    "\n",
    "$$\n",
    "             \\mathbb E\n",
    "             \\exp \\left[(1-\\gamma)  \\sum_{t=1}^n \n",
    "             \\kappa(X_{t-1}, X_t, \\eta_t) \\right]\n",
    "$$\n",
    "\n",
    "with its average value over the paths."
   ]
  },
  {
   "cell_type": "markdown",
   "metadata": {},
   "source": [
    "Here's an illustration:"
   ]
  },
  {
   "cell_type": "code",
   "execution_count": 2,
   "metadata": {},
   "outputs": [
    {
     "data": {
      "text/plain": [
       "compute_mm_coef"
      ]
     },
     "execution_count": 2,
     "metadata": {},
     "output_type": "execute_result"
    }
   ],
   "source": [
    "include(\"src/ssy_stability.jl\")\n",
    "include(\"src/by_stability.jl\")"
   ]
  },
  {
   "cell_type": "markdown",
   "metadata": {},
   "source": [
    "Create some default instances of types that store data for the Bansal-Yaron model:"
   ]
  },
  {
   "cell_type": "code",
   "execution_count": 3,
   "metadata": {},
   "outputs": [
    {
     "data": {
      "text/plain": [
       "BYConsumption{Float64}(0.0015, 0.979, 0.044, 0.987, 7.9092e-7, 2.3e-6)"
      ]
     },
     "execution_count": 3,
     "metadata": {},
     "output_type": "execute_result"
    }
   ],
   "source": [
    "ez = EpsteinZinBY()\n",
    "bc = BYConsumption()"
   ]
  },
  {
   "cell_type": "markdown",
   "metadata": {},
   "source": [
    "Compute the spectral radius using the method described above:"
   ]
  },
  {
   "cell_type": "code",
   "execution_count": 4,
   "metadata": {},
   "outputs": [
    {
     "name": "stdout",
     "output_type": "stream",
     "text": [
      "  0.305107 seconds (109.94 k allocations: 158.449 MiB, 5.31% gc time)\n"
     ]
    },
    {
     "data": {
      "text/plain": [
       "0.28880407519522494"
      ]
     },
     "execution_count": 4,
     "metadata": {},
     "output_type": "execute_result"
    }
   ],
   "source": [
    "@time s = compute_spec_rad_coef(ez, bc, M=1000, N=5000)"
   ]
  },
  {
   "cell_type": "markdown",
   "metadata": {},
   "source": [
    "Now do the same for the Schorfheide, Song and Yaron model:"
   ]
  },
  {
   "cell_type": "code",
   "execution_count": 5,
   "metadata": {},
   "outputs": [
    {
     "data": {
      "text/plain": [
       "SSYConsumption{Float64}(0.0016, 0.987, 0.215, 0.0032, 1.0, 0.992, 0.06244997998398398, 0.991, 0.09797958971132711)"
      ]
     },
     "execution_count": 5,
     "metadata": {},
     "output_type": "execute_result"
    }
   ],
   "source": [
    "ez = EpsteinZinSSY()\n",
    "sc = SSYConsumption()"
   ]
  },
  {
   "cell_type": "code",
   "execution_count": 7,
   "metadata": {},
   "outputs": [
    {
     "name": "stdout",
     "output_type": "stream",
     "text": [
      "  2.871203 seconds (90.03 M allocations: 1.566 GiB, 1.26% gc time)\n"
     ]
    },
    {
     "data": {
      "text/plain": [
       "0.8894512510151937"
      ]
     },
     "execution_count": 7,
     "metadata": {},
     "output_type": "execute_result"
    }
   ],
   "source": [
    "@time s = compute_spec_rad_coef(ez, sc, M=1000, N=5000)"
   ]
  }
 ],
 "metadata": {
  "kernelspec": {
   "display_name": "Julia 0.6.1",
   "language": "julia",
   "name": "julia-0.6"
  },
  "language_info": {
   "file_extension": ".jl",
   "mimetype": "application/julia",
   "name": "julia",
   "version": "0.6.1"
  }
 },
 "nbformat": 4,
 "nbformat_minor": 2
}
