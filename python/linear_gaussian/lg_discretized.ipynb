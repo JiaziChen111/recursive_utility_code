{
 "cells": [
  {
   "cell_type": "code",
   "execution_count": 13,
   "metadata": {},
   "outputs": [],
   "source": [
    "import matplotlib.pyplot as plt\n",
    "import pandas as pd"
   ]
  },
  {
   "cell_type": "code",
   "execution_count": 14,
   "metadata": {},
   "outputs": [],
   "source": [
    "%run src/lg_model.py"
   ]
  },
  {
   "cell_type": "code",
   "execution_count": 15,
   "metadata": {},
   "outputs": [],
   "source": [
    "lg = LinearGaussian()"
   ]
  },
  {
   "cell_type": "code",
   "execution_count": 16,
   "metadata": {},
   "outputs": [],
   "source": [
    "a = lrm_analytic(lg)"
   ]
  },
  {
   "cell_type": "code",
   "execution_count": 17,
   "metadata": {},
   "outputs": [
    {
     "data": {
      "text/plain": [
       "1.000046629250375"
      ]
     },
     "execution_count": 17,
     "metadata": {},
     "output_type": "execute_result"
    }
   ],
   "source": [
    "a"
   ]
  },
  {
   "cell_type": "markdown",
   "metadata": {},
   "source": [
    "A figure showing approximation of stability exponent at different levels of discretization."
   ]
  },
  {
   "cell_type": "code",
   "execution_count": 18,
   "metadata": {},
   "outputs": [],
   "source": [
    "D_vals = np.arange(5, 250, step=5)\n",
    "discrete_exponent_vals = np.empty_like(D_vals, dtype=np.float64)"
   ]
  },
  {
   "cell_type": "code",
   "execution_count": 19,
   "metadata": {},
   "outputs": [],
   "source": [
    "for d, D in enumerate(D_vals):\n",
    "    discrete_exponent_vals[d] = lrm_discretized(lg, D=D)"
   ]
  },
  {
   "cell_type": "code",
   "execution_count": 20,
   "metadata": {},
   "outputs": [
    {
     "data": {
      "text/plain": [
       "<matplotlib.legend.Legend at 0x7f0650c847b8>"
      ]
     },
     "execution_count": 20,
     "metadata": {},
     "output_type": "execute_result"
    },
    {
     "data": {
      "image/png": "[encoded data removed]",
      "text/plain": [
       "<Figure size 432x288 with 1 Axes>"
      ]
     },
     "metadata": {
      "needs_background": "light"
     },
     "output_type": "display_data"
    }
   ],
   "source": [
    "fig, ax = plt.subplots()\n",
    "ax.ticklabel_format(useOffset=False) \n",
    "#ax.set_ylim((a - 1.5 * 1e-8, a + 2 * 1e-9))\n",
    "ax.plot(D_vals, np.ones_like(D_vals) * a, label=\"true value\")\n",
    "ax.plot(D_vals, discrete_exponent_vals, label=\"discrete approximation\")\n",
    "ax.legend()"
   ]
  },
  {
   "cell_type": "code",
   "execution_count": null,
   "metadata": {},
   "outputs": [],
   "source": []
  },
  {
   "cell_type": "markdown",
   "metadata": {},
   "source": [
    "A table that compares discretized val vs actual value for different values of the parameters"
   ]
  },
  {
   "cell_type": "code",
   "execution_count": 21,
   "metadata": {},
   "outputs": [
    {
     "data": {
      "text/plain": [
       "10.0"
      ]
     },
     "execution_count": 21,
     "metadata": {},
     "output_type": "execute_result"
    }
   ],
   "source": [
    "lg.γ"
   ]
  },
  {
   "cell_type": "markdown",
   "metadata": {},
   "source": [
    "Preference params from SSY"
   ]
  },
  {
   "cell_type": "code",
   "execution_count": 22,
   "metadata": {},
   "outputs": [],
   "source": [
    "β = 0.998\n",
    "ψ = 1.5"
   ]
  },
  {
   "cell_type": "code",
   "execution_count": 23,
   "metadata": {},
   "outputs": [],
   "source": [
    "D_vals = [5, 50, 100, 200]\n",
    "gamma_vals = [7.5, 10, 12.5]\n",
    "\n",
    "MC_table = np.empty((len(gamma_vals), len(D_vals) + 1))\n",
    "Lambda_table = np.empty_like(MC_table)"
   ]
  },
  {
   "cell_type": "code",
   "execution_count": 24,
   "metadata": {},
   "outputs": [],
   "source": [
    "for i, γ in enumerate(gamma_vals):\n",
    "    lg = LinearGaussian(γ=γ)\n",
    "    MC_table[i, 0] = lrm_analytic(lg)\n",
    "    Lambda_table[i, 0] = lg.β * MC_table[i, 0]**(1 - 1/lg.ψ)\n",
    "    for j, d in enumerate(D_vals):\n",
    "        MC_table[i, j+1] = round(lrm_discretized(lg, D=d), 7)\n",
    "        Lambda_table[i, j+1] = β * MC_table[i, j+1]**(1 - 1/ψ)"
   ]
  },
  {
   "cell_type": "code",
   "execution_count": 25,
   "metadata": {},
   "outputs": [
    {
     "data": {
      "text/plain": [
       "array([[1.00045044, 1.0004998 , 1.0004549 , 1.0004527 , 1.0004516 ],\n",
       "       [1.00004663, 1.0001658 , 1.0000584 , 1.0000525 , 1.0000496 ],\n",
       "       [0.99964298, 0.9998662 , 0.9996673 , 0.9996552 , 0.9996491 ]])"
      ]
     },
     "execution_count": 25,
     "metadata": {},
     "output_type": "execute_result"
    }
   ],
   "source": [
    "MC_table"
   ]
  },
  {
   "cell_type": "code",
   "execution_count": 26,
   "metadata": {},
   "outputs": [],
   "source": [
    "def make_table(table):\n",
    "    pd_table = pd.DataFrame(table)\n",
    "    print(pd_table.to_latex(float_format=lambda x: '%1.7f' % x))"
   ]
  },
  {
   "cell_type": "code",
   "execution_count": 27,
   "metadata": {},
   "outputs": [
    {
     "name": "stdout",
     "output_type": "stream",
     "text": [
      "\\begin{tabular}{lrrrrr}\n",
      "\\toprule\n",
      "{} &         0 &         1 &         2 &         3 &         4 \\\\\n",
      "\\midrule\n",
      "0 & 1.0004504 & 1.0004998 & 1.0004549 & 1.0004527 & 1.0004516 \\\\\n",
      "1 & 1.0000466 & 1.0001658 & 1.0000584 & 1.0000525 & 1.0000496 \\\\\n",
      "2 & 0.9996430 & 0.9998662 & 0.9996673 & 0.9996552 & 0.9996491 \\\\\n",
      "\\bottomrule\n",
      "\\end{tabular}\n",
      "\n"
     ]
    }
   ],
   "source": [
    "make_table(MC_table)"
   ]
  },
  {
   "cell_type": "code",
   "execution_count": 28,
   "metadata": {},
   "outputs": [
    {
     "name": "stdout",
     "output_type": "stream",
     "text": [
      "\\begin{tabular}{lrrrrr}\n",
      "\\toprule\n",
      "{} &         0 &         1 &         2 &         3 &         4 \\\\\n",
      "\\midrule\n",
      "0 & 0.9981498 & 0.9981662 & 0.9981513 & 0.9981506 & 0.9981502 \\\\\n",
      "1 & 0.9980155 & 0.9980552 & 0.9980194 & 0.9980175 & 0.9980165 \\\\\n",
      "2 & 0.9978812 & 0.9979555 & 0.9978893 & 0.9978853 & 0.9978833 \\\\\n",
      "\\bottomrule\n",
      "\\end{tabular}\n",
      "\n"
     ]
    }
   ],
   "source": [
    "make_table(Lambda_table)"
   ]
  },
  {
   "cell_type": "code",
   "execution_count": 29,
   "metadata": {},
   "outputs": [
    {
     "data": {
      "text/plain": [
       "[7.5, 10, 12.5]"
      ]
     },
     "execution_count": 29,
     "metadata": {},
     "output_type": "execute_result"
    }
   ],
   "source": [
    "gamma_vals"
   ]
  },
  {
   "cell_type": "code",
   "execution_count": 32,
   "metadata": {},
   "outputs": [],
   "source": [
    "lg = LinearGaussian(γ=1)"
   ]
  },
  {
   "cell_type": "code",
   "execution_count": 33,
   "metadata": {},
   "outputs": [
    {
     "data": {
      "text/plain": [
       "1.000046629250375"
      ]
     },
     "execution_count": 33,
     "metadata": {},
     "output_type": "execute_result"
    }
   ],
   "source": [
    "lrm_analytic(lg)"
   ]
  },
  {
   "cell_type": "code",
   "execution_count": null,
   "metadata": {},
   "outputs": [],
   "source": []
  }
 ],
 "metadata": {
  "kernelspec": {
   "display_name": "Python 3",
   "language": "python",
   "name": "python3"
  },
  "language_info": {
   "codemirror_mode": {
    "name": "ipython",
    "version": 3
   },
   "file_extension": ".py",
   "mimetype": "text/x-python",
   "name": "python",
   "nbconvert_exporter": "python",
   "pygments_lexer": "ipython3",
   "version": "3.7.1"
  }
 },
 "nbformat": 4,
 "nbformat_minor": 2
}
