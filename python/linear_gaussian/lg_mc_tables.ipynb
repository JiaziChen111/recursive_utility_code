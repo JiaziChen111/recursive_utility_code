{
 "cells": [
  {
   "cell_type": "markdown",
   "metadata": {},
   "source": [
    "## Risk-adjusted mean consumption growth, MC method"
   ]
  },
  {
   "cell_type": "code",
   "execution_count": 26,
   "metadata": {},
   "outputs": [],
   "source": [
    "%run src/lg_model.py"
   ]
  },
  {
   "cell_type": "code",
   "execution_count": 27,
   "metadata": {},
   "outputs": [],
   "source": [
    "lg = LinearGaussian(γ=7.5)"
   ]
  },
  {
   "cell_type": "markdown",
   "metadata": {},
   "source": [
    "Here's the spectral radius at default values:"
   ]
  },
  {
   "cell_type": "code",
   "execution_count": 66,
   "metadata": {},
   "outputs": [
    {
     "data": {
      "text/plain": [
       "1.0004504439817938"
      ]
     },
     "execution_count": 66,
     "metadata": {},
     "output_type": "execute_result"
    }
   ],
   "source": [
    "lrm_analytic(lg)"
   ]
  },
  {
   "cell_type": "code",
   "execution_count": 67,
   "metadata": {},
   "outputs": [
    {
     "data": {
      "text/plain": [
       "1.000473816505887"
      ]
     },
     "execution_count": 67,
     "metadata": {},
     "output_type": "execute_result"
    }
   ],
   "source": [
    "lrm_discretized(lg)"
   ]
  },
  {
   "cell_type": "code",
   "execution_count": 68,
   "metadata": {},
   "outputs": [],
   "source": [
    "se_mc = lrm_mc_factory(lg, parallel_flag=False)"
   ]
  },
  {
   "cell_type": "code",
   "execution_count": 69,
   "metadata": {},
   "outputs": [
    {
     "name": "stdout",
     "output_type": "stream",
     "text": [
      "CPU times: user 267 ms, sys: 3.26 ms, total: 270 ms\n",
      "Wall time: 271 ms\n"
     ]
    },
    {
     "data": {
      "text/plain": [
       "1.0006921558512156"
      ]
     },
     "execution_count": 69,
     "metadata": {},
     "output_type": "execute_result"
    }
   ],
   "source": [
    "%time se_mc(m=1500, n=1000)"
   ]
  },
  {
   "cell_type": "markdown",
   "metadata": {},
   "source": [
    "Once more with parallelization:"
   ]
  },
  {
   "cell_type": "code",
   "execution_count": 70,
   "metadata": {},
   "outputs": [],
   "source": [
    "se_mc = lrm_mc_factory(lg, parallel_flag=True)"
   ]
  },
  {
   "cell_type": "code",
   "execution_count": 71,
   "metadata": {},
   "outputs": [
    {
     "name": "stdout",
     "output_type": "stream",
     "text": [
      "CPU times: user 495 ms, sys: 6.55 ms, total: 502 ms\n",
      "Wall time: 409 ms\n"
     ]
    },
    {
     "data": {
      "text/plain": [
       "1.0003500545047028"
      ]
     },
     "execution_count": 71,
     "metadata": {},
     "output_type": "execute_result"
    }
   ],
   "source": [
    "%time se_mc(m=1500, n=1000)"
   ]
  },
  {
   "cell_type": "markdown",
   "metadata": {},
   "source": [
    "For the stability exponent $\\Lambda$, with parameter vals from SSY"
   ]
  },
  {
   "cell_type": "code",
   "execution_count": 72,
   "metadata": {},
   "outputs": [
    {
     "data": {
      "text/plain": [
       "0.9981498252042409"
      ]
     },
     "execution_count": 72,
     "metadata": {},
     "output_type": "execute_result"
    }
   ],
   "source": [
    "lg.β * lrm_analytic(lg)**(1 - 1/lg.ψ)"
   ]
  },
  {
   "cell_type": "markdown",
   "metadata": {},
   "source": [
    "Generate the table"
   ]
  },
  {
   "cell_type": "code",
   "execution_count": 73,
   "metadata": {},
   "outputs": [],
   "source": [
    "n_vals = np.array([250, 500, 750])\n",
    "m_vals = np.array([1000, 2000, 3000, 4000, 5000])"
   ]
  },
  {
   "cell_type": "code",
   "execution_count": 74,
   "metadata": {},
   "outputs": [
    {
     "name": "stdout",
     "output_type": "stream",
     "text": [
      "Calculating n=250, m=1000\n",
      "Calculating n=250, m=2000\n",
      "Calculating n=250, m=3000\n",
      "Calculating n=250, m=4000\n",
      "Calculating n=250, m=5000\n",
      "Calculating n=500, m=1000\n",
      "Calculating n=500, m=2000\n",
      "Calculating n=500, m=3000\n",
      "Calculating n=500, m=4000\n",
      "Calculating n=500, m=5000\n",
      "Calculating n=750, m=1000\n",
      "Calculating n=750, m=2000\n",
      "Calculating n=750, m=3000\n",
      "Calculating n=750, m=4000\n",
      "Calculating n=750, m=5000\n"
     ]
    }
   ],
   "source": [
    "k = 100\n",
    "MC_draws = np.empty(k)\n",
    "Lambda_draws = np.empty(k)\n",
    "\n",
    "MC_means = np.empty((len(n_vals), len(m_vals)))\n",
    "MC_stds = np.empty((len(n_vals), len(m_vals)))\n",
    "Lambda_means = np.empty((len(n_vals), len(m_vals)))\n",
    "Lambda_stds = np.empty((len(n_vals), len(m_vals)))\n",
    "\n",
    "for n_i, n in enumerate(n_vals):\n",
    "    for m_i, m in enumerate(m_vals):\n",
    "        print(f'Calculating n={n}, m={m}')\n",
    "        \n",
    "        for i in range(k):\n",
    "            MC_draws[i] = se_mc(n=n, m=m)\n",
    "        \n",
    "        Lambda_draws = lg.β * MC_draws**(1 - 1/lg.ψ)\n",
    "        \n",
    "        MC_means[n_i, m_i] = MC_draws.mean()\n",
    "        MC_stds[n_i, m_i] = MC_draws.std()\n",
    "        \n",
    "        Lambda_means[n_i, m_i] = Lambda_draws.mean()\n",
    "        Lambda_stds[n_i, m_i] = Lambda_draws.std()"
   ]
  },
  {
   "cell_type": "code",
   "execution_count": 75,
   "metadata": {},
   "outputs": [],
   "source": [
    "def make_table(means, stds):\n",
    "    means_strings = means.round(7).astype(str)\n",
    "    n_strings = n_vals.astype(str)\n",
    "\n",
    "    start_table = r\"\"\"\n",
    "    \\begin{table}\n",
    "    \\centering\n",
    "    \\begin{tabular}{llll}\n",
    "    \"\"\"\n",
    "\n",
    "    m_table = ' & m = '.join(m_vals.astype(str))\n",
    "    m_table = '    & m = ' + m_table + r' \\\\' + '\\n' + r'\\hline \\hline' '\\n'\n",
    "\n",
    "    end_table = r\"\"\"\n",
    "    \\end{tabular}\n",
    "    \\end{table}\n",
    "    \"\"\"\n",
    "\n",
    "    row_string = ''\n",
    "    for row in range(len(n_strings)):\n",
    "        temp_means = ' & '.join(means_strings[row, :])\n",
    "\n",
    "        x = ['{:f}'.format(item) for item in stds[row, :]]    \n",
    "        temp_stds = '(' + ') & ('.join(x) + ')'\n",
    "        row_string += f'n = {n_strings[row]} & ' + temp_means + r' \\\\' + '\\n'\n",
    "        row_string += '         & ' + temp_stds + r' \\\\' + '\\n'\n",
    "        row_string += r'\\hline' '\\n'\n",
    "\n",
    "    print(start_table + m_table + row_string + end_table)"
   ]
  },
  {
   "cell_type": "code",
   "execution_count": 76,
   "metadata": {},
   "outputs": [
    {
     "name": "stdout",
     "output_type": "stream",
     "text": [
      "\n",
      "    \\begin{table}\n",
      "    \\centering\n",
      "    \\begin{tabular}{llll}\n",
      "        & m = 1000 & m = 2000 & m = 3000 & m = 4000 & m = 5000 \\\\\n",
      "\\hline \\hline\n",
      "n = 250 & 1.000694 & 1.0006905 & 1.000694 & 1.0006932 & 1.0006934 \\\\\n",
      "         & (0.000076) & (0.000048) & (0.000032) & (0.000037) & (0.000029) \\\\\n",
      "\\hline\n",
      "n = 500 & 1.0006208 & 1.0006091 & 1.0005813 & 1.0005733 & 1.0005775 \\\\\n",
      "         & (0.000084) & (0.000066) & (0.000068) & (0.000084) & (0.000062) \\\\\n",
      "\\hline\n",
      "n = 750 & 1.0005979 & 1.0005762 & 1.0005764 & 1.0005611 & 1.0005523 \\\\\n",
      "         & (0.000112) & (0.000096) & (0.000076) & (0.000074) & (0.000092) \\\\\n",
      "\\hline\n",
      "\n",
      "    \\end{tabular}\n",
      "    \\end{table}\n",
      "    \n"
     ]
    }
   ],
   "source": [
    "make_table(MC_means, MC_stds)"
   ]
  },
  {
   "cell_type": "code",
   "execution_count": 77,
   "metadata": {},
   "outputs": [
    {
     "name": "stdout",
     "output_type": "stream",
     "text": [
      "\n",
      "    \\begin{table}\n",
      "    \\centering\n",
      "    \\begin{tabular}{llll}\n",
      "        & m = 1000 & m = 2000 & m = 3000 & m = 4000 & m = 5000 \\\\\n",
      "\\hline \\hline\n",
      "n = 250 & 0.9982308 & 0.9982297 & 0.9982308 & 0.9982305 & 0.9982306 \\\\\n",
      "         & (0.000025) & (0.000016) & (0.000011) & (0.000012) & (0.000010) \\\\\n",
      "\\hline\n",
      "n = 500 & 0.9982065 & 0.9982026 & 0.9981934 & 0.9981907 & 0.9981921 \\\\\n",
      "         & (0.000028) & (0.000022) & (0.000022) & (0.000028) & (0.000021) \\\\\n",
      "\\hline\n",
      "n = 750 & 0.9981989 & 0.9981916 & 0.9981917 & 0.9981866 & 0.9981837 \\\\\n",
      "         & (0.000037) & (0.000032) & (0.000025) & (0.000025) & (0.000031) \\\\\n",
      "\\hline\n",
      "\n",
      "    \\end{tabular}\n",
      "    \\end{table}\n",
      "    \n"
     ]
    }
   ],
   "source": [
    "make_table(Lambda_means, Lambda_stds)"
   ]
  },
  {
   "cell_type": "code",
   "execution_count": 78,
   "metadata": {},
   "outputs": [],
   "source": [
    "lg = LinearGaussian(γ=7.5)"
   ]
  },
  {
   "cell_type": "code",
   "execution_count": null,
   "metadata": {},
   "outputs": [],
   "source": []
  },
  {
   "cell_type": "code",
   "execution_count": null,
   "metadata": {},
   "outputs": [],
   "source": []
  }
 ],
 "metadata": {
  "kernelspec": {
   "display_name": "Python 3",
   "language": "python",
   "name": "python3"
  },
  "language_info": {
   "codemirror_mode": {
    "name": "ipython",
    "version": 3
   },
   "file_extension": ".py",
   "mimetype": "text/x-python",
   "name": "python",
   "nbconvert_exporter": "python",
   "pygments_lexer": "ipython3",
   "version": "3.7.1"
  }
 },
 "nbformat": 4,
 "nbformat_minor": 2
}
