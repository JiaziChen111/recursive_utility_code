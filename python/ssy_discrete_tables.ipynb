{
 "cells": [
  {
   "cell_type": "code",
   "execution_count": 1,
   "metadata": {},
   "outputs": [],
   "source": [
    "%run src/ssy_discretized_test.py"
   ]
  },
  {
   "cell_type": "code",
   "execution_count": 2,
   "metadata": {},
   "outputs": [],
   "source": [
    "import pandas as pd\n",
    "import matplotlib.pyplot as plt\n"
   ]
  },
  {
   "cell_type": "code",
   "execution_count": 3,
   "metadata": {},
   "outputs": [],
   "source": [
    "ssy = SSY()"
   ]
  },
  {
   "cell_type": "code",
   "execution_count": 4,
   "metadata": {},
   "outputs": [],
   "source": [
    "D=3"
   ]
  },
  {
   "cell_type": "code",
   "execution_count": 5,
   "metadata": {},
   "outputs": [
    {
     "data": {
      "text/plain": [
       "0.9995003158424812"
      ]
     },
     "execution_count": 5,
     "metadata": {},
     "output_type": "execute_result"
    }
   ],
   "source": [
    "test_val_spec_rad(ssy, K=D, I=D, J=D)"
   ]
  },
  {
   "cell_type": "code",
   "execution_count": 6,
   "metadata": {},
   "outputs": [],
   "source": [
    "f = mc_factory(ssy, K=D, I=D, J=D)"
   ]
  },
  {
   "cell_type": "markdown",
   "metadata": {},
   "source": [
    "Test function"
   ]
  },
  {
   "cell_type": "code",
   "execution_count": 17,
   "metadata": {},
   "outputs": [],
   "source": [
    "n_vals = np.array([1000, 1500, 2000])\n",
    "m_vals = np.array([1000, 1500, 2000, 2500, 3000])"
   ]
  },
  {
   "cell_type": "code",
   "execution_count": 18,
   "metadata": {
    "scrolled": true
   },
   "outputs": [
    {
     "name": "stdout",
     "output_type": "stream",
     "text": [
      "Calculating n=1000, m=1000\n",
      "Calculating n=1000, m=1500\n",
      "Calculating n=1000, m=2000\n",
      "Calculating n=1000, m=2500\n",
      "Calculating n=1000, m=3000\n",
      "Calculating n=1500, m=1000\n",
      "Calculating n=1500, m=1500\n",
      "Calculating n=1500, m=2000\n",
      "Calculating n=1500, m=2500\n",
      "Calculating n=1500, m=3000\n",
      "Calculating n=2000, m=1000\n",
      "Calculating n=2000, m=1500\n",
      "Calculating n=2000, m=2000\n",
      "Calculating n=2000, m=2500\n",
      "Calculating n=2000, m=3000\n"
     ]
    }
   ],
   "source": [
    "k = 1000\n",
    "draws = np.empty(k)\n",
    "means = np.empty((len(n_vals), len(m_vals)))\n",
    "stds = np.empty((len(n_vals), len(m_vals)))\n",
    "\n",
    "for n_i, n in enumerate(n_vals):\n",
    "    for m_i, m in enumerate(m_vals):\n",
    "        print(f'Calculating n={n}, m={m}')\n",
    "        for i in range(k):\n",
    "            draws[i] = f(n=n, m=m)\n",
    "        means[n_i, m_i] = draws.mean()\n",
    "        stds[n_i, m_i] = draws.std()"
   ]
  },
  {
   "cell_type": "code",
   "execution_count": 19,
   "metadata": {},
   "outputs": [],
   "source": [
    "means_strings = means.round(6).astype(str)\n",
    "n_strings = n_vals.astype(str)\n",
    "\n",
    "start_table = r\"\"\"\n",
    "\\begin{table}\n",
    "\\centering\n",
    "\\begin{tabular}{llll}\n",
    "\"\"\"\n",
    "\n",
    "m_table = ' & m = '.join(m_vals.astype(str))\n",
    "m_table = '    & m = ' + m_table + r' \\\\' + '\\n' + r'\\hline \\hline' '\\n'\n",
    "\n",
    "end_table = r\"\"\"\n",
    "\\end{tabular}\n",
    "\\end{table}\n",
    "\"\"\"\n",
    "\n",
    "row_string = ''\n",
    "for row in range(len(n_strings)):\n",
    "    \n",
    "    temp_means = ' & '.join(means_strings[row, :])\n",
    "    \n",
    "    x = ['{:f}'.format(item) for item in stds[row, :]]    \n",
    "    temp_stds = '(' + ') & ('.join(x) + ')'\n",
    "    row_string += f'n = {n_strings[row]} & ' + temp_means + r' \\\\' + '\\n'\n",
    "    row_string += '         & ' + temp_stds + r' \\\\' + '\\n'\n",
    "    row_string += r'\\hline' '\\n'\n",
    "\n",
    "print(start_table + m_table + row_string + end_table)"
   ]
  },
  {
   "cell_type": "code",
   "execution_count": null,
   "metadata": {},
   "outputs": [],
   "source": []
  },
  {
   "cell_type": "code",
   "execution_count": null,
   "metadata": {},
   "outputs": [],
   "source": []
  }
 ],
 "metadata": {
  "kernelspec": {
   "display_name": "Python 3",
   "language": "python",
   "name": "python3"
  },
  "language_info": {
   "codemirror_mode": {
    "name": "ipython",
    "version": 3
   },
   "file_extension": ".py",
   "mimetype": "text/x-python",
   "name": "python",
   "nbconvert_exporter": "python",
   "pygments_lexer": "ipython3",
   "version": "3.7.1"
  }
 },
 "nbformat": 4,
 "nbformat_minor": 2
}
