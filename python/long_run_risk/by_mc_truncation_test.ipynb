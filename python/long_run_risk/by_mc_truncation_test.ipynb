{
 "cells": [
  {
   "cell_type": "markdown",
   "metadata": {},
   "source": [
    "## A Test of the Impact of Truncation on Stability"
   ]
  },
  {
   "cell_type": "code",
   "execution_count": 1,
   "metadata": {},
   "outputs": [],
   "source": [
    "import matplotlib.pyplot as plt"
   ]
  },
  {
   "cell_type": "code",
   "execution_count": 6,
   "metadata": {},
   "outputs": [],
   "source": [
    "%run src/by_mc_truncation_test.py"
   ]
  },
  {
   "cell_type": "code",
   "execution_count": 7,
   "metadata": {},
   "outputs": [],
   "source": [
    "by = BY()"
   ]
  },
  {
   "cell_type": "code",
   "execution_count": 8,
   "metadata": {},
   "outputs": [],
   "source": [
    "f = by_function_factory(by)"
   ]
  },
  {
   "cell_type": "code",
   "execution_count": 17,
   "metadata": {},
   "outputs": [
    {
     "data": {
      "text/plain": [
       "0.9980336103784864"
      ]
     },
     "execution_count": 17,
     "metadata": {},
     "output_type": "execute_result"
    }
   ],
   "source": [
    "seed=1234\n",
    "f(seed=seed)"
   ]
  },
  {
   "cell_type": "code",
   "execution_count": 18,
   "metadata": {},
   "outputs": [],
   "source": [
    "G = 20\n",
    "trunc_vals = np.linspace(0.5, 5.0, G)"
   ]
  },
  {
   "cell_type": "code",
   "execution_count": 19,
   "metadata": {},
   "outputs": [],
   "source": [
    "out = []\n",
    "for t in trunc_vals:\n",
    "    out.append(f(trunc_val=t, seed=seed))"
   ]
  },
  {
   "cell_type": "code",
   "execution_count": 20,
   "metadata": {},
   "outputs": [
    {
     "data": {
      "text/plain": [
       "[0.9983371084557432,\n",
       " 0.9982824880834684,\n",
       " 0.9982343918886304,\n",
       " 0.9981837940353663,\n",
       " 0.9981413677493143,\n",
       " 0.998104084978947,\n",
       " 0.9980782773927358,\n",
       " 0.998061619985821,\n",
       " 0.9980505078544315,\n",
       " 0.9980409701727383,\n",
       " 0.9980349531384684,\n",
       " 0.9980335757831346,\n",
       " 0.9980335814667566,\n",
       " 0.9980336045542854,\n",
       " 0.9980336130095916,\n",
       " 0.9980336106122082,\n",
       " 0.998033610402091,\n",
       " 0.9980336103822163,\n",
       " 0.9980336103784795,\n",
       " 0.9980336103784839]"
      ]
     },
     "execution_count": 20,
     "metadata": {},
     "output_type": "execute_result"
    }
   ],
   "source": [
    "out"
   ]
  },
  {
   "cell_type": "code",
   "execution_count": 23,
   "metadata": {},
   "outputs": [
    {
     "data": {
      "image/png": "[encoded data removed]",
      "text/plain": [
       "<Figure size 432x288 with 1 Axes>"
      ]
     },
     "metadata": {
      "needs_background": "light"
     },
     "output_type": "display_data"
    }
   ],
   "source": [
    "fig, ax = plt.subplots()\n",
    "ax.plot(trunc_vals, out, label=\"$\\Lambda$ with truncation\")\n",
    "ax.plot(trunc_vals, np.ones(G) * f(seed=seed), \"k--\",  label=\"$\\Lambda$ without explicit truncation\")\n",
    "ax.set_ylim((0.9978, 0.9984))\n",
    "ax.set_ylabel(\"$\\Lambda$\")\n",
    "ax.set_xlabel(\"truncation value\")\n",
    "ax.legend()\n",
    "plt.savefig(\"temp.pdf\")"
   ]
  },
  {
   "cell_type": "code",
   "execution_count": null,
   "metadata": {},
   "outputs": [],
   "source": []
  }
 ],
 "metadata": {
  "kernelspec": {
   "display_name": "Python 3",
   "language": "python",
   "name": "python3"
  },
  "language_info": {
   "codemirror_mode": {
    "name": "ipython",
    "version": 3
   },
   "file_extension": ".py",
   "mimetype": "text/x-python",
   "name": "python",
   "nbconvert_exporter": "python",
   "pygments_lexer": "ipython3",
   "version": "3.7.1"
  }
 },
 "nbformat": 4,
 "nbformat_minor": 2
}
