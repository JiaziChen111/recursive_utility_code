{
 "cells": [
  {
   "cell_type": "code",
   "execution_count": 1,
   "metadata": {},
   "outputs": [],
   "source": [
    "import numpy as np\n",
    "import matplotlib.pyplot as plt\n",
    "import quantecon as qe"
   ]
  },
  {
   "cell_type": "code",
   "execution_count": 2,
   "metadata": {},
   "outputs": [],
   "source": [
    "np.set_printoptions(suppress=True)"
   ]
  },
  {
   "cell_type": "code",
   "execution_count": 3,
   "metadata": {},
   "outputs": [],
   "source": [
    "%run src/ssy_fp_discretized.py\n",
    "%run src/ssy_monte_carlo_test.py"
   ]
  },
  {
   "cell_type": "code",
   "execution_count": 4,
   "metadata": {},
   "outputs": [],
   "source": [
    "ssy = SSY()"
   ]
  },
  {
   "cell_type": "code",
   "execution_count": 5,
   "metadata": {},
   "outputs": [],
   "source": [
    "dot_loc = ssy.ψ, ssy.μ_c"
   ]
  },
  {
   "cell_type": "code",
   "execution_count": 6,
   "metadata": {},
   "outputs": [],
   "source": [
    "G = 6\n",
    "D = 3"
   ]
  },
  {
   "cell_type": "code",
   "execution_count": 7,
   "metadata": {},
   "outputs": [
    {
     "name": "stdout",
     "output_type": "stream",
     "text": [
      "Test value = 0.994712322967233 and θ = -16.0240206185567\n",
      "Beginning iteration\n",
      "\n",
      "\n",
      "Iteration converged after 67326 iterations\n"
     ]
    },
    {
     "data": {
      "text/plain": [
       "2256.1724999018534"
      ]
     },
     "execution_count": 7,
     "metadata": {},
     "output_type": "execute_result"
    }
   ],
   "source": [
    "average_wealth_cons(ssy, K=D, I=D, J=D, verbose=True)"
   ]
  },
  {
   "cell_type": "code",
   "execution_count": 8,
   "metadata": {},
   "outputs": [],
   "source": [
    "psi_vec = np.linspace(1.1, 4.0, G)\n",
    "mu_vec = np.linspace(0.003, 0.0005, G)"
   ]
  },
  {
   "cell_type": "code",
   "execution_count": 9,
   "metadata": {},
   "outputs": [],
   "source": [
    "R = np.empty((G, G))"
   ]
  },
  {
   "cell_type": "code",
   "execution_count": 10,
   "metadata": {},
   "outputs": [],
   "source": [
    "for i, μ_c in enumerate(mu_vec):\n",
    "    for j, ψ in enumerate(psi_vec):\n",
    "        ssy.ψ = ψ\n",
    "        ssy.μ_c = μ_c\n",
    "        test_function = ssy_function_factory(ssy, parallelization_flag=False)\n",
    "        if test_function() < 1:\n",
    "            R[i, j] = average_wealth_cons(ssy, K=D, I=D, J=D, verbose=False)\n",
    "        else:\n",
    "            R[i, j] = np.inf"
   ]
  },
  {
   "cell_type": "code",
   "execution_count": 67,
   "metadata": {},
   "outputs": [
    {
     "data": {
      "text/plain": [
       "array([[1.29e+03, 4.66e+04,      inf,      inf,      inf,      inf],\n",
       "       [1.22e+03, 4.61e+03, 4.66e+25,      inf,      inf,      inf],\n",
       "       [1.16e+03, 2.42e+03, 4.99e+03, 1.28e+04, 3.60e+06, 1.79e+31],\n",
       "       [1.10e+03, 1.64e+03, 2.14e+03, 2.60e+03, 3.02e+03, 3.41e+03],\n",
       "       [1.05e+03, 1.24e+03, 1.36e+03, 1.44e+03, 1.50e+03, 1.55e+03],\n",
       "       [1.00e+03, 9.98e+02, 9.98e+02, 9.98e+02, 9.98e+02, 9.99e+02]])"
      ]
     },
     "execution_count": 67,
     "metadata": {},
     "output_type": "execute_result"
    }
   ],
   "source": [
    "R"
   ]
  },
  {
   "cell_type": "code",
   "execution_count": 68,
   "metadata": {},
   "outputs": [],
   "source": [
    "\n",
    "\n",
    "start_table = r\"\"\"\n",
    "\\begin{table}\n",
    "\\centering\n",
    "\\begin{tabular}{c_string}\n",
    "\"\"\""
   ]
  },
  {
   "cell_type": "code",
   "execution_count": 69,
   "metadata": {},
   "outputs": [],
   "source": [
    "end_table = r\"\"\"\n",
    "\\end{tabular}\n",
    "\\end{table}\n",
    "\"\"\""
   ]
  },
  {
   "cell_type": "code",
   "execution_count": 71,
   "metadata": {},
   "outputs": [
    {
     "name": "stdout",
     "output_type": "stream",
     "text": [
      "\n",
      "\\begin{table}\n",
      "\\centering\n",
      "\\begin{tabular}{c_string}\n",
      "\n",
      "$\\psi$ = 1.1 & $\\psi$ = 1.68 & $\\psi$ = 2.26 & $\\psi$ = 2.84 & $\\psi$ = 3.42 & $\\psi$ = 4.0 & \\\\\n",
      "\\hline \\hline\n",
      "$\\mu_c$ = 0.003 & 1290.3  & 46604.4  & inf  & inf  & inf  & inf  & \\\\\n",
      "\\hline\n",
      "$\\mu_c$ = 0.0025 & 1219.3  & 4610.7  & 4.661476754501171e+25  & inf  & inf  & inf  & \\\\\n",
      "\\hline\n",
      "$\\mu_c$ = 0.002 & 1155.7  & 2423.3  & 4986.7  & 12840.7  & 3596674.7  & 1.7922553505068954e+31  & \\\\\n",
      "\\hline\n",
      "$\\mu_c$ = 0.0015 & 1098.4  & 1642.7  & 2142.0  & 2600.6  & 3022.8  & 3412.6  & \\\\\n",
      "\\hline\n",
      "$\\mu_c$ = 0.001 & 1046.5  & 1242.0  & 1362.4  & 1443.9  & 1502.7  & 1547.2  & \\\\\n",
      "\\hline\n",
      "$\\mu_c$ = 0.0005 & 999.5  & 998.3  & 998.3  & 998.3  & 998.5  & 998.6  & \\\\\n",
      "\\hline\n",
      "\n",
      "\\end{tabular}\n",
      "\\end{table}\n",
      "\n"
     ]
    }
   ],
   "source": [
    "print(start_table)\n",
    "\n",
    "# Print the first row\n",
    "for j, ψ in enumerate(psi_vec):\n",
    "    print(f\"$\\psi$ = {round(ψ, 3)} & \", end='')\n",
    "print(\"\\\\\\\\\")\n",
    "print(\"\\hline \\hline\")\n",
    "\n",
    "\n",
    "for i, μ_c in enumerate(mu_vec):\n",
    "    print(f\"$\\mu_c$ = {round(μ_c, 4)} & \", end='')\n",
    "    for j in range(G):\n",
    "        print(f\"{R[i, j].round(1)}  & \", end='')\n",
    "    print('\\\\\\\\')\n",
    "    print('\\\\hline')\n",
    "    \n",
    "print(end_table)"
   ]
  },
  {
   "cell_type": "code",
   "execution_count": null,
   "metadata": {},
   "outputs": [],
   "source": []
  }
 ],
 "metadata": {
  "kernelspec": {
   "display_name": "Python 3",
   "language": "python",
   "name": "python3"
  },
  "language_info": {
   "codemirror_mode": {
    "name": "ipython",
    "version": 3
   },
   "file_extension": ".py",
   "mimetype": "text/x-python",
   "name": "python",
   "nbconvert_exporter": "python",
   "pygments_lexer": "ipython3",
   "version": "3.7.1"
  }
 },
 "nbformat": 4,
 "nbformat_minor": 2
}
