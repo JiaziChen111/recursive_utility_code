{
 "cells": [
  {
   "cell_type": "markdown",
   "metadata": {},
   "source": [
    "## Test and summary stats, BY model"
   ]
  },
  {
   "cell_type": "code",
   "execution_count": 1,
   "metadata": {},
   "outputs": [],
   "source": [
    "import matplotlib.pyplot as plt\n",
    "import pandas as pd"
   ]
  },
  {
   "cell_type": "code",
   "execution_count": 2,
   "metadata": {},
   "outputs": [],
   "source": [
    "%run src/by_monte_carlo_test.py"
   ]
  },
  {
   "cell_type": "code",
   "execution_count": 3,
   "metadata": {},
   "outputs": [],
   "source": [
    "b = BY()"
   ]
  },
  {
   "cell_type": "code",
   "execution_count": 4,
   "metadata": {},
   "outputs": [],
   "source": [
    "by_compute_stat = by_function_factory(b, parallelization_flag=True)"
   ]
  },
  {
   "cell_type": "code",
   "execution_count": 5,
   "metadata": {},
   "outputs": [
    {
     "data": {
      "text/plain": [
       "0.9980300945320473"
      ]
     },
     "execution_count": 5,
     "metadata": {},
     "output_type": "execute_result"
    }
   ],
   "source": [
    "by_compute_stat()"
   ]
  },
  {
   "cell_type": "code",
   "execution_count": 6,
   "metadata": {},
   "outputs": [
    {
     "data": {
      "text/plain": [
       "0.9980347108148537"
      ]
     },
     "execution_count": 6,
     "metadata": {},
     "output_type": "execute_result"
    }
   ],
   "source": [
    "by_compute_stat()"
   ]
  },
  {
   "cell_type": "code",
   "execution_count": 15,
   "metadata": {},
   "outputs": [],
   "source": [
    "num_reps = 1000"
   ]
  },
  {
   "cell_type": "markdown",
   "metadata": {},
   "source": [
    "### Varying n"
   ]
  },
  {
   "cell_type": "code",
   "execution_count": 16,
   "metadata": {},
   "outputs": [
    {
     "data": {
      "text/plain": [
       "count    1000.000000\n",
       "mean        0.998086\n",
       "std         0.000059\n",
       "min         0.997823\n",
       "25%         0.998059\n",
       "50%         0.998097\n",
       "75%         0.998128\n",
       "max         0.998209\n",
       "dtype: float64"
      ]
     },
     "execution_count": 16,
     "metadata": {},
     "output_type": "execute_result"
    }
   ],
   "source": [
    "vals = np.empty(num_reps)\n",
    "for i in range(num_reps):\n",
    "    vals[i] = by_compute_stat(n=500, m=1000)\n",
    "\n",
    "v = pd.Series(vals)\n",
    "\n",
    "v.describe()"
   ]
  },
  {
   "cell_type": "code",
   "execution_count": 17,
   "metadata": {},
   "outputs": [
    {
     "data": {
      "text/plain": [
       "count    1000.000000\n",
       "mean        0.998128\n",
       "std         0.000053\n",
       "min         0.997823\n",
       "25%         0.998099\n",
       "50%         0.998136\n",
       "75%         0.998166\n",
       "max         0.998240\n",
       "dtype: float64"
      ]
     },
     "execution_count": 17,
     "metadata": {},
     "output_type": "execute_result"
    }
   ],
   "source": [
    "vals = np.empty(num_reps)\n",
    "for i in range(num_reps):\n",
    "    vals[i] = by_compute_stat(n=1000, m=1000)\n",
    "\n",
    "v = pd.Series(vals)\n",
    "\n",
    "v.describe()"
   ]
  },
  {
   "cell_type": "code",
   "execution_count": 18,
   "metadata": {},
   "outputs": [
    {
     "data": {
      "text/plain": [
       "count    1000.000000\n",
       "mean        0.998159\n",
       "std         0.000047\n",
       "min         0.997919\n",
       "25%         0.998134\n",
       "50%         0.998167\n",
       "75%         0.998192\n",
       "max         0.998246\n",
       "dtype: float64"
      ]
     },
     "execution_count": 18,
     "metadata": {},
     "output_type": "execute_result"
    }
   ],
   "source": [
    "vals = np.empty(num_reps)\n",
    "for i in range(num_reps):\n",
    "    vals[i] = by_compute_stat(n=1500, m=1000)\n",
    "\n",
    "v = pd.Series(vals)\n",
    "\n",
    "v.describe()"
   ]
  },
  {
   "cell_type": "code",
   "execution_count": 19,
   "metadata": {},
   "outputs": [
    {
     "data": {
      "text/plain": [
       "count    1000.000000\n",
       "mean        0.998149\n",
       "std         0.000021\n",
       "min         0.997985\n",
       "25%         0.998149\n",
       "50%         0.998157\n",
       "75%         0.998159\n",
       "max         0.998160\n",
       "dtype: float64"
      ]
     },
     "execution_count": 19,
     "metadata": {},
     "output_type": "execute_result"
    }
   ],
   "source": [
    "vals = np.empty(num_reps)\n",
    "for i in range(num_reps):\n",
    "    vals[i] = by_compute_stat(n=2000, m=1000)\n",
    "\n",
    "v = pd.Series(vals)\n",
    "\n",
    "v.describe()"
   ]
  },
  {
   "cell_type": "code",
   "execution_count": 20,
   "metadata": {},
   "outputs": [
    {
     "data": {
      "text/plain": [
       "count    1000.000000\n",
       "mean        0.998208\n",
       "std         0.000042\n",
       "min         0.997935\n",
       "25%         0.998188\n",
       "50%         0.998214\n",
       "75%         0.998238\n",
       "max         0.998288\n",
       "dtype: float64"
      ]
     },
     "execution_count": 20,
     "metadata": {},
     "output_type": "execute_result"
    }
   ],
   "source": [
    "vals = np.empty(num_reps)\n",
    "for i in range(num_reps):\n",
    "    vals[i] = by_compute_stat(n=2500, m=1000)\n",
    "\n",
    "v = pd.Series(vals)\n",
    "\n",
    "v.describe()"
   ]
  },
  {
   "cell_type": "code",
   "execution_count": null,
   "metadata": {},
   "outputs": [],
   "source": []
  },
  {
   "cell_type": "markdown",
   "metadata": {},
   "source": [
    "### Varying m"
   ]
  },
  {
   "cell_type": "code",
   "execution_count": 21,
   "metadata": {},
   "outputs": [
    {
     "data": {
      "text/plain": [
       "count    1000.000000\n",
       "mean        0.998141\n",
       "std         0.000058\n",
       "min         0.997870\n",
       "25%         0.998112\n",
       "50%         0.998150\n",
       "75%         0.998181\n",
       "max         0.998258\n",
       "dtype: float64"
      ]
     },
     "execution_count": 21,
     "metadata": {},
     "output_type": "execute_result"
    }
   ],
   "source": [
    "vals = np.empty(num_reps)\n",
    "for i in range(num_reps):\n",
    "    vals[i] = by_compute_stat(n=1000, m=500)\n",
    "\n",
    "v = pd.Series(vals)\n",
    "\n",
    "v.describe()"
   ]
  },
  {
   "cell_type": "code",
   "execution_count": 22,
   "metadata": {},
   "outputs": [
    {
     "data": {
      "text/plain": [
       "count    1000.000000\n",
       "mean        0.998124\n",
       "std         0.000054\n",
       "min         0.997788\n",
       "25%         0.998096\n",
       "50%         0.998132\n",
       "75%         0.998162\n",
       "max         0.998241\n",
       "dtype: float64"
      ]
     },
     "execution_count": 22,
     "metadata": {},
     "output_type": "execute_result"
    }
   ],
   "source": [
    "vals = np.empty(num_reps)\n",
    "for i in range(num_reps):\n",
    "    vals[i] = by_compute_stat(n=1000, m=1000)\n",
    "\n",
    "v = pd.Series(vals)\n",
    "\n",
    "v.describe()"
   ]
  },
  {
   "cell_type": "code",
   "execution_count": 23,
   "metadata": {},
   "outputs": [
    {
     "data": {
      "text/plain": [
       "count    1000.000000\n",
       "mean        0.998045\n",
       "std         0.000023\n",
       "min         0.997799\n",
       "25%         0.998044\n",
       "50%         0.998053\n",
       "75%         0.998057\n",
       "max         0.998060\n",
       "dtype: float64"
      ]
     },
     "execution_count": 23,
     "metadata": {},
     "output_type": "execute_result"
    }
   ],
   "source": [
    "vals = np.empty(num_reps)\n",
    "for i in range(num_reps):\n",
    "    vals[i] = by_compute_stat(n=1000, m=2000)\n",
    "\n",
    "v = pd.Series(vals)\n",
    "\n",
    "v.describe()"
   ]
  },
  {
   "cell_type": "markdown",
   "metadata": {},
   "source": [
    "### Large m, n"
   ]
  },
  {
   "cell_type": "code",
   "execution_count": 24,
   "metadata": {},
   "outputs": [
    {
     "data": {
      "text/plain": [
       "count    1000.000000\n",
       "mean        0.998150\n",
       "std         0.000026\n",
       "min         0.997967\n",
       "25%         0.998148\n",
       "50%         0.998160\n",
       "75%         0.998165\n",
       "max         0.998167\n",
       "dtype: float64"
      ]
     },
     "execution_count": 24,
     "metadata": {},
     "output_type": "execute_result"
    }
   ],
   "source": [
    "vals = np.empty(num_reps)\n",
    "for i in range(num_reps):\n",
    "    vals[i] = by_compute_stat(n=2000, m=2000)\n",
    "\n",
    "v = pd.Series(vals)\n",
    "\n",
    "v.describe()"
   ]
  },
  {
   "cell_type": "code",
   "execution_count": null,
   "metadata": {},
   "outputs": [],
   "source": []
  }
 ],
 "metadata": {
  "kernelspec": {
   "display_name": "Python 3",
   "language": "python",
   "name": "python3"
  },
  "language_info": {
   "codemirror_mode": {
    "name": "ipython",
    "version": 3
   },
   "file_extension": ".py",
   "mimetype": "text/x-python",
   "name": "python",
   "nbconvert_exporter": "python",
   "pygments_lexer": "ipython3",
   "version": "3.7.1"
  }
 },
 "nbformat": 4,
 "nbformat_minor": 2
}
