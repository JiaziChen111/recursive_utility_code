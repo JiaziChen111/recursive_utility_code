{
 "cells": [
  {
   "cell_type": "markdown",
   "metadata": {},
   "source": [
    "## A Test of the Impact of Truncation on Stability"
   ]
  },
  {
   "cell_type": "code",
   "execution_count": 1,
   "metadata": {},
   "outputs": [],
   "source": [
    "import matplotlib.pyplot as plt"
   ]
  },
  {
   "cell_type": "code",
   "execution_count": 2,
   "metadata": {},
   "outputs": [],
   "source": [
    "%run src/ssy_mc_truncation_test.py"
   ]
  },
  {
   "cell_type": "code",
   "execution_count": 3,
   "metadata": {},
   "outputs": [],
   "source": [
    "ssy = SSY()"
   ]
  },
  {
   "cell_type": "code",
   "execution_count": 4,
   "metadata": {},
   "outputs": [],
   "source": [
    "f = ssy_function_factory(ssy)"
   ]
  },
  {
   "cell_type": "code",
   "execution_count": 5,
   "metadata": {},
   "outputs": [
    {
     "data": {
      "text/plain": [
       "0.9994263032654819"
      ]
     },
     "execution_count": 5,
     "metadata": {},
     "output_type": "execute_result"
    }
   ],
   "source": [
    "seed = 12345\n",
    "f(seed=seed)"
   ]
  },
  {
   "cell_type": "code",
   "execution_count": 6,
   "metadata": {},
   "outputs": [],
   "source": [
    "G = 20\n",
    "trunc_vals = np.linspace(0.5, 5.0, G)"
   ]
  },
  {
   "cell_type": "code",
   "execution_count": 7,
   "metadata": {},
   "outputs": [],
   "source": [
    "out = []\n",
    "for t in trunc_vals:\n",
    "    out.append(f(trunc_val=t, seed=seed))"
   ]
  },
  {
   "cell_type": "code",
   "execution_count": 8,
   "metadata": {},
   "outputs": [
    {
     "data": {
      "text/plain": [
       "[0.9997347219350236,\n",
       " 0.9997018845618485,\n",
       " 0.9996578142957393,\n",
       " 0.9996080264158458,\n",
       " 0.9995576461928415,\n",
       " 0.9995113199528328,\n",
       " 0.9994778562352965,\n",
       " 0.9994538186977308,\n",
       " 0.9994378984947216,\n",
       " 0.9994273473187253,\n",
       " 0.9994229849313937,\n",
       " 0.9994242278273044,\n",
       " 0.9994255798660963,\n",
       " 0.9994262846959924,\n",
       " 0.9994262912676423,\n",
       " 0.999426311811583,\n",
       " 0.9994263137000875,\n",
       " 0.9994263108588153,\n",
       " 0.9994263079905,\n",
       " 0.9994263050511673]"
      ]
     },
     "execution_count": 8,
     "metadata": {},
     "output_type": "execute_result"
    }
   ],
   "source": [
    "out"
   ]
  },
  {
   "cell_type": "code",
   "execution_count": 10,
   "metadata": {},
   "outputs": [
    {
     "data": {
      "image/png": "[encoded data removed]",
      "text/plain": [
       "<Figure size 432x288 with 1 Axes>"
      ]
     },
     "metadata": {
      "needs_background": "light"
     },
     "output_type": "display_data"
    }
   ],
   "source": [
    "fig, ax = plt.subplots()\n",
    "ax.plot(trunc_vals, out, label=\"$\\Lambda$ with truncation\")\n",
    "ax.plot(trunc_vals, np.ones(G) * f(seed=seed), \"k--\",  label=\"$\\Lambda$ without explicit truncation\")\n",
    "ax.set_ylim((0.99925, 0.99985))\n",
    "ax.set_ylabel(\"$\\Lambda$\")\n",
    "ax.set_xlabel(\"truncation value\")\n",
    "ax.legend()\n",
    "plt.tight_layout()\n",
    "plt.savefig(\"temp.pdf\")"
   ]
  },
  {
   "cell_type": "code",
   "execution_count": null,
   "metadata": {},
   "outputs": [],
   "source": []
  }
 ],
 "metadata": {
  "kernelspec": {
   "display_name": "Python 3",
   "language": "python",
   "name": "python3"
  },
  "language_info": {
   "codemirror_mode": {
    "name": "ipython",
    "version": 3
   },
   "file_extension": ".py",
   "mimetype": "text/x-python",
   "name": "python",
   "nbconvert_exporter": "python",
   "pygments_lexer": "ipython3",
   "version": "3.7.4"
  }
 },
 "nbformat": 4,
 "nbformat_minor": 2
}
