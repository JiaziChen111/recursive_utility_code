{
 "cells": [
  {
   "cell_type": "markdown",
   "metadata": {},
   "source": [
    "## A Test of the Impact of Truncation on Stability"
   ]
  },
  {
   "cell_type": "code",
   "execution_count": 1,
   "metadata": {},
   "outputs": [],
   "source": [
    "import matplotlib.pyplot as plt"
   ]
  },
  {
   "cell_type": "code",
   "execution_count": 2,
   "metadata": {},
   "outputs": [],
   "source": [
    "%run src/ssy_mc_truncation_test.py"
   ]
  },
  {
   "cell_type": "code",
   "execution_count": 3,
   "metadata": {},
   "outputs": [],
   "source": [
    "ssy = SSY()"
   ]
  },
  {
   "cell_type": "code",
   "execution_count": 4,
   "metadata": {},
   "outputs": [],
   "source": [
    "f = ssy_function_factory(ssy)"
   ]
  },
  {
   "cell_type": "code",
   "execution_count": 5,
   "metadata": {},
   "outputs": [
    {
     "data": {
      "text/plain": [
       "0.9994263032654819"
      ]
     },
     "execution_count": 5,
     "metadata": {},
     "output_type": "execute_result"
    }
   ],
   "source": [
    "seed = 12345\n",
    "f(seed=seed)"
   ]
  },
  {
   "cell_type": "code",
   "execution_count": 6,
   "metadata": {},
   "outputs": [],
   "source": [
    "G = 20\n",
    "trunc_vals = np.linspace(0.5, 5.0, G)"
   ]
  },
  {
   "cell_type": "code",
   "execution_count": 7,
   "metadata": {},
   "outputs": [],
   "source": [
    "out = []\n",
    "for t in trunc_vals:\n",
    "    out.append(f(trunc_val=t, seed=seed))"
   ]
  },
  {
   "cell_type": "code",
   "execution_count": 8,
   "metadata": {},
   "outputs": [
    {
     "data": {
      "text/plain": [
       "[0.9997540735690319,\n",
       " 0.9997170487561579,\n",
       " 0.9996672947104104,\n",
       " 0.9996136825657194,\n",
       " 0.9995623791198412,\n",
       " 0.9995140409442926,\n",
       " 0.9994793739533288,\n",
       " 0.9994549492644411,\n",
       " 0.9994388835704344,\n",
       " 0.9994277755182908,\n",
       " 0.9994230935784069,\n",
       " 0.9994239578987822,\n",
       " 0.9994251103790633,\n",
       " 0.9994259740687691,\n",
       " 0.999426124725752,\n",
       " 0.9994262975405585,\n",
       " 0.9994263136872472,\n",
       " 0.9994263108568553,\n",
       " 0.9994263079905,\n",
       " 0.9994263050511673]"
      ]
     },
     "execution_count": 8,
     "metadata": {},
     "output_type": "execute_result"
    }
   ],
   "source": [
    "out"
   ]
  },
  {
   "cell_type": "code",
   "execution_count": 9,
   "metadata": {},
   "outputs": [
    {
     "data": {
      "image/png": "[encoded data removed]",
      "text/plain": [
       "<Figure size 432x288 with 1 Axes>"
      ]
     },
     "metadata": {
      "needs_background": "light"
     },
     "output_type": "display_data"
    }
   ],
   "source": [
    "fig, ax = plt.subplots()\n",
    "ax.plot(trunc_vals, out, label=\"$\\Lambda$ with truncation\")\n",
    "ax.plot(trunc_vals, np.ones(G) * f(seed=seed), \"k--\",  label=\"$\\Lambda$ without explicit truncation\")\n",
    "ax.set_ylim((0.99925, 0.99985))\n",
    "ax.set_ylabel(\"$\\Lambda$\")\n",
    "ax.set_xlabel(\"truncation value\")\n",
    "ax.legend()\n",
    "plt.savefig(\"temp.pdf\")"
   ]
  },
  {
   "cell_type": "code",
   "execution_count": null,
   "metadata": {},
   "outputs": [],
   "source": []
  }
 ],
 "metadata": {
  "kernelspec": {
   "display_name": "Python 3",
   "language": "python",
   "name": "python3"
  },
  "language_info": {
   "codemirror_mode": {
    "name": "ipython",
    "version": 3
   },
   "file_extension": ".py",
   "mimetype": "text/x-python",
   "name": "python",
   "nbconvert_exporter": "python",
   "pygments_lexer": "ipython3",
   "version": "3.7.1"
  }
 },
 "nbformat": 4,
 "nbformat_minor": 2
}
