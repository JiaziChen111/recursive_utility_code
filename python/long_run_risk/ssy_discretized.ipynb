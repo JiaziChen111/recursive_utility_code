{
 "cells": [
  {
   "cell_type": "code",
   "execution_count": 1,
   "metadata": {},
   "outputs": [],
   "source": [
    "%run src/ssy_discretized_test.py"
   ]
  },
  {
   "cell_type": "code",
   "execution_count": 2,
   "metadata": {},
   "outputs": [],
   "source": [
    "import matplotlib.pyplot as plt"
   ]
  },
  {
   "cell_type": "code",
   "execution_count": 3,
   "metadata": {},
   "outputs": [],
   "source": [
    "ssy = SSY()"
   ]
  },
  {
   "cell_type": "code",
   "execution_count": 4,
   "metadata": {},
   "outputs": [],
   "source": [
    "D=3"
   ]
  },
  {
   "cell_type": "code",
   "execution_count": 5,
   "metadata": {},
   "outputs": [
    {
     "data": {
      "text/plain": [
       "0.999439176569547"
      ]
     },
     "execution_count": 5,
     "metadata": {},
     "output_type": "execute_result"
    }
   ],
   "source": [
    "test_val_spec_rad(ssy, K=D, I=D, J=D)"
   ]
  },
  {
   "cell_type": "code",
   "execution_count": 6,
   "metadata": {},
   "outputs": [
    {
     "name": "stdout",
     "output_type": "stream",
     "text": [
      "Calculating at D = 3\n",
      "Calculating at D = 4\n",
      "Calculating at D = 5\n",
      "Calculating at D = 6\n",
      "Calculating at D = 7\n",
      "Calculating at D = 8\n",
      "Calculating at D = 9\n",
      "Calculating at D = 10\n",
      "Calculating at D = 11\n",
      "Calculating at D = 12\n",
      "Calculating at D = 13\n"
     ]
    }
   ],
   "source": [
    "D_vals = range(3, 14)\n",
    "Lambda_vals = []\n",
    "\n",
    "for D in D_vals:\n",
    "    print(f\"Calculating at D = {D}\")\n",
    "    Λ = test_val_spec_rad(ssy, K=D, I=D, J=D)\n",
    "    Lambda_vals.append(Λ)"
   ]
  },
  {
   "cell_type": "code",
   "execution_count": 7,
   "metadata": {},
   "outputs": [
    {
     "data": {
      "text/plain": [
       "[0.999439176569547,\n",
       " 0.999383593701018,\n",
       " 0.9993297989794658,\n",
       " 0.999271704762543,\n",
       " 0.9992039375594387,\n",
       " 0.9991200758421778,\n",
       " 0.9990109367116795,\n",
       " 0.9988588974239533,\n",
       " 0.9986168173417717,\n",
       " 0.9982106640625895,\n",
       " 0.9976187931764713]"
      ]
     },
     "execution_count": 7,
     "metadata": {},
     "output_type": "execute_result"
    }
   ],
   "source": [
    "Lambda_vals"
   ]
  },
  {
   "cell_type": "code",
   "execution_count": null,
   "metadata": {},
   "outputs": [],
   "source": []
  }
 ],
 "metadata": {
  "kernelspec": {
   "display_name": "Python 3",
   "language": "python",
   "name": "python3"
  },
  "language_info": {
   "codemirror_mode": {
    "name": "ipython",
    "version": 3
   },
   "file_extension": ".py",
   "mimetype": "text/x-python",
   "name": "python",
   "nbconvert_exporter": "python",
   "pygments_lexer": "ipython3",
   "version": "3.7.1"
  }
 },
 "nbformat": 4,
 "nbformat_minor": 2
}
