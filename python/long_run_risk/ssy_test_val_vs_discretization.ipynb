{
 "cells": [
  {
   "cell_type": "markdown",
   "metadata": {},
   "source": [
    "# SSY Dicretization and the Test Value\n",
    "\n",
    "How does discretization affect the test value?"
   ]
  },
  {
   "cell_type": "code",
   "execution_count": 1,
   "metadata": {},
   "outputs": [],
   "source": [
    "import numpy as np\n",
    "import matplotlib.pyplot as plt\n",
    "import quantecon as qe"
   ]
  },
  {
   "cell_type": "code",
   "execution_count": 2,
   "metadata": {},
   "outputs": [],
   "source": [
    "%run src/ssy_discretized_test.py"
   ]
  },
  {
   "cell_type": "code",
   "execution_count": 3,
   "metadata": {},
   "outputs": [],
   "source": [
    "s = SSY()"
   ]
  },
  {
   "cell_type": "code",
   "execution_count": 4,
   "metadata": {},
   "outputs": [],
   "source": [
    "def continuous_call(D, num_reps=500):\n",
    "    f = mc_factory(s, K=D, I=D, J=D)\n",
    "    out = np.empty(num_reps)\n",
    "    for i in range(num_reps):\n",
    "        out[i] = f(n=1000, m=1000)\n",
    "    return out.mean()"
   ]
  },
  {
   "cell_type": "code",
   "execution_count": 5,
   "metadata": {},
   "outputs": [],
   "source": [
    "D1, D2 = 2, 43\n",
    "rg = range(D1, D2, 5)"
   ]
  },
  {
   "cell_type": "code",
   "execution_count": 6,
   "metadata": {},
   "outputs": [
    {
     "name": "stdout",
     "output_type": "stream",
     "text": [
      "D = 2\n",
      "D = 7\n",
      "D = 12\n",
      "D = 17\n",
      "D = 22\n",
      "D = 27\n",
      "D = 32\n",
      "D = 37\n",
      "D = 42\n"
     ]
    }
   ],
   "source": [
    "lambda_vals = []\n",
    "\n",
    "for D in rg:\n",
    "    print(f\"D = {D}\")\n",
    "    lambda_vals.append(continuous_call(D))"
   ]
  },
  {
   "cell_type": "code",
   "execution_count": 7,
   "metadata": {},
   "outputs": [
    {
     "data": {
      "image/png": "[encoded data removed]",
      "text/plain": [
       "<Figure size 432x288 with 1 Axes>"
      ]
     },
     "metadata": {
      "needs_background": "light"
     },
     "output_type": "display_data"
    }
   ],
   "source": [
    "fig, ax = plt.subplots()\n",
    "ax.plot(rg, lambda_vals, label=\"With discretization\")\n",
    "ax.plot(rg, 0.999482 * np.ones(len(rg)), 'k--', label=\"Without discretization\")\n",
    "\n",
    "ax.set_xlabel(\"level of discretization $D$\", fontsize=12)\n",
    "ax.set_ylabel(\"$\\Lambda$\")\n",
    "ax.set_ylim((0.99925, 0.99985))\n",
    "ax.legend(loc=\"upper right\")\n",
    "plt.savefig(\"ssy_test_val_vs_discretization.pdf\")\n",
    "plt.show()"
   ]
  },
  {
   "cell_type": "code",
   "execution_count": 8,
   "metadata": {},
   "outputs": [
    {
     "data": {
      "text/plain": [
       "[0.9995589807158951,\n",
       " 0.9994817896882711,\n",
       " 0.9994627799752818,\n",
       " 0.999462607184412,\n",
       " 0.9994673979921896,\n",
       " 0.9994581369358213,\n",
       " 0.9994560716521881,\n",
       " 0.9994577514068642,\n",
       " 0.9994468667336092]"
      ]
     },
     "execution_count": 8,
     "metadata": {},
     "output_type": "execute_result"
    }
   ],
   "source": [
    "lambda_vals"
   ]
  },
  {
   "cell_type": "code",
   "execution_count": null,
   "metadata": {},
   "outputs": [],
   "source": []
  },
  {
   "cell_type": "code",
   "execution_count": null,
   "metadata": {},
   "outputs": [],
   "source": []
  }
 ],
 "metadata": {
  "kernelspec": {
   "display_name": "Python 3",
   "language": "python",
   "name": "python3"
  },
  "language_info": {
   "codemirror_mode": {
    "name": "ipython",
    "version": 3
   },
   "file_extension": ".py",
   "mimetype": "text/x-python",
   "name": "python",
   "nbconvert_exporter": "python",
   "pygments_lexer": "ipython3",
   "version": "3.7.1"
  }
 },
 "nbformat": 4,
 "nbformat_minor": 2
}
