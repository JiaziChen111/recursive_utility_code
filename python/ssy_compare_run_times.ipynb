{
 "cells": [
  {
   "cell_type": "markdown",
   "metadata": {},
   "source": [
    "# Compare Run Times\n",
    "\n",
    "## Relative speed of Monte Carlo and Spectral Radius Methods"
   ]
  },
  {
   "cell_type": "code",
   "execution_count": 44,
   "metadata": {},
   "outputs": [],
   "source": [
    "import numpy as np\n",
    "import matplotlib.pyplot as plt\n",
    "import quantecon as qe"
   ]
  },
  {
   "cell_type": "code",
   "execution_count": 45,
   "metadata": {},
   "outputs": [],
   "source": [
    "%run src/ssy_discretized_test.py"
   ]
  },
  {
   "cell_type": "code",
   "execution_count": 46,
   "metadata": {},
   "outputs": [],
   "source": [
    "s = SSY()"
   ]
  },
  {
   "cell_type": "code",
   "execution_count": 47,
   "metadata": {},
   "outputs": [],
   "source": [
    "def discrete_call(D):\n",
    "    return test_val_spec_rad(s, K=D, I=D, J=D)\n",
    "    "
   ]
  },
  {
   "cell_type": "code",
   "execution_count": 48,
   "metadata": {},
   "outputs": [],
   "source": [
    "def continuous_call(D):\n",
    "    f = mc_factory(s, K=D, I=D, J=D)\n",
    "    return f(n=1000, m=1000)"
   ]
  },
  {
   "cell_type": "code",
   "execution_count": 51,
   "metadata": {},
   "outputs": [
    {
     "name": "stdout",
     "output_type": "stream",
     "text": [
      "CPU times: user 4.84 s, sys: 3.33 ms, total: 4.84 s\n",
      "Wall time: 3.98 s\n"
     ]
    },
    {
     "data": {
      "text/plain": [
       "0.9991631792726975"
      ]
     },
     "execution_count": 51,
     "metadata": {},
     "output_type": "execute_result"
    }
   ],
   "source": [
    "%time discrete_call(10)"
   ]
  },
  {
   "cell_type": "code",
   "execution_count": 52,
   "metadata": {},
   "outputs": [
    {
     "name": "stdout",
     "output_type": "stream",
     "text": [
      "CPU times: user 885 ms, sys: 33 µs, total: 885 ms\n",
      "Wall time: 756 ms\n"
     ]
    },
    {
     "data": {
      "text/plain": [
       "0.9995423120868748"
      ]
     },
     "execution_count": 52,
     "metadata": {},
     "output_type": "execute_result"
    }
   ],
   "source": [
    "%time continuous_call(10)"
   ]
  },
  {
   "cell_type": "code",
   "execution_count": 85,
   "metadata": {},
   "outputs": [],
   "source": [
    "comparisons = []\n",
    "calls = [discrete_call, continuous_call]\n",
    "results = np.empty(2)\n",
    "D1, D2 = 3, 20\n",
    "\n",
    "for d in range(D1, D2):\n",
    "    for i, call in enumerate(calls):\n",
    "        qe.tic()\n",
    "        call(d)\n",
    "        results[i] = qe.toc(verbose=False)\n",
    "    comparisons.append(results[0] / results[1])"
   ]
  },
  {
   "cell_type": "code",
   "execution_count": 86,
   "metadata": {},
   "outputs": [
    {
     "data": {
      "text/plain": [
       "[0.007996138228696369,\n",
       " 0.025795350840916623,\n",
       " 0.08300613067663155,\n",
       " 0.2397820735921793,\n",
       " 0.6828689932254224,\n",
       " 1.38041893769099,\n",
       " 2.7802424867997937,\n",
       " 5.24967877041343,\n",
       " 10.558948140339123,\n",
       " 16.617188259743628,\n",
       " 26.78321596672383,\n",
       " 42.586084968168755,\n",
       " 74.95614994468251,\n",
       " 105.05914246191166,\n",
       " 148.90887805314728,\n",
       " 222.75608183559268,\n",
       " 375.303425627946]"
      ]
     },
     "execution_count": 86,
     "metadata": {},
     "output_type": "execute_result"
    }
   ],
   "source": [
    "comparisons"
   ]
  },
  {
   "cell_type": "code",
   "execution_count": 87,
   "metadata": {},
   "outputs": [
    {
     "data": {
      "image/png": "[encoded data removed]",
      "text/plain": [
       "<Figure size 432x288 with 1 Axes>"
      ]
     },
     "metadata": {
      "needs_background": "light"
     },
     "output_type": "display_data"
    }
   ],
   "source": [
    "fig, ax = plt.subplots()\n",
    "ax.plot(range(D1, D2), np.array(comparisons), label=\"spectral radius time / Monte Carlo time\")\n",
    "ax.set_xlabel(\"level of discretization\", fontsize=12)\n",
    "ax.set_ylabel(\"relative time\", fontsize=12)\n",
    "ax.legend()\n",
    "plt.show()"
   ]
  },
  {
   "cell_type": "code",
   "execution_count": null,
   "metadata": {},
   "outputs": [],
   "source": []
  }
 ],
 "metadata": {
  "kernelspec": {
   "display_name": "Python 3",
   "language": "python",
   "name": "python3"
  },
  "language_info": {
   "codemirror_mode": {
    "name": "ipython",
    "version": 3
   },
   "file_extension": ".py",
   "mimetype": "text/x-python",
   "name": "python",
   "nbconvert_exporter": "python",
   "pygments_lexer": "ipython3",
   "version": "3.7.1"
  }
 },
 "nbformat": 4,
 "nbformat_minor": 2
}
