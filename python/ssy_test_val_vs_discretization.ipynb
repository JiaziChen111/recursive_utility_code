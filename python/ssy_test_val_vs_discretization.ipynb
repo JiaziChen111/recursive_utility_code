{
 "cells": [
  {
   "cell_type": "markdown",
   "metadata": {},
   "source": [
    "# SSY Dicretization and the Test Value\n",
    "\n",
    "How does discretization affect the test value?"
   ]
  },
  {
   "cell_type": "code",
   "execution_count": 1,
   "metadata": {},
   "outputs": [],
   "source": [
    "import numpy as np\n",
    "import matplotlib.pyplot as plt\n",
    "import quantecon as qe"
   ]
  },
  {
   "cell_type": "code",
   "execution_count": 2,
   "metadata": {},
   "outputs": [],
   "source": [
    "%run src/ssy_discretized_test.py"
   ]
  },
  {
   "cell_type": "code",
   "execution_count": 3,
   "metadata": {},
   "outputs": [],
   "source": [
    "s = SSY()"
   ]
  },
  {
   "cell_type": "code",
   "execution_count": 8,
   "metadata": {},
   "outputs": [],
   "source": [
    "def continuous_call(D, num_reps=500):\n",
    "    f = mc_factory(s, K=D, I=D, J=D)\n",
    "    out = np.empty(num_reps)\n",
    "    for i in range(num_reps):\n",
    "        out[i] = f(n=1000, m=1000)\n",
    "    return out.mean()"
   ]
  },
  {
   "cell_type": "code",
   "execution_count": 20,
   "metadata": {},
   "outputs": [],
   "source": [
    "D1, D2 = 2, 40\n",
    "rg = range(D1, D2)"
   ]
  },
  {
   "cell_type": "code",
   "execution_count": 29,
   "metadata": {},
   "outputs": [],
   "source": [
    "lambda_vals = []\n",
    "\n",
    "for D in rg:\n",
    "    lambda_vals.append(continuous_call(D))"
   ]
  },
  {
   "cell_type": "code",
   "execution_count": 33,
   "metadata": {},
   "outputs": [
    {
     "data": {
      "image/png": "[encoded data removed]",
      "text/plain": [
       "<Figure size 576x288 with 1 Axes>"
      ]
     },
     "metadata": {
      "needs_background": "light"
     },
     "output_type": "display_data"
    }
   ],
   "source": [
    "fig, ax = plt.subplots(figsize=(8, 4))\n",
    "ax.plot(rg, lambda_vals, label=\"Monte Carlo with discretization\")\n",
    "ax.plot(rg, 0.999482 * np.ones(len(rg)), '--', label=\"Monte Carlo without discretization\")\n",
    "\n",
    "ax.set_xlabel(\"level of discretization $D$\", fontsize=12)\n",
    "ax.set_ylabel(\"$\\Lambda$\", fontsize=12)\n",
    "ax.set_ylim((0.999, 1.0))\n",
    "ax.legend(fontsize=12, loc=\"upper right\")\n",
    "plt.savefig(\"ssy_test_val_vs_discretization.pdf\")\n",
    "plt.show()"
   ]
  },
  {
   "cell_type": "code",
   "execution_count": 15,
   "metadata": {},
   "outputs": [
    {
     "data": {
      "text/plain": [
       "[0.9995358588609332,\n",
       " 0.9995360057828333,\n",
       " 0.9995295894738138,\n",
       " 0.9995065731534754,\n",
       " 0.9995055713048875,\n",
       " 0.9995272571541813,\n",
       " 0.9995143023225611,\n",
       " 0.9995162998407946,\n",
       " 0.999509110195806,\n",
       " 0.9995024697289623,\n",
       " 0.9994898959843114,\n",
       " 0.999499900074794,\n",
       " 0.9995129126991786,\n",
       " 0.9995144990804755,\n",
       " 0.9995126480679619,\n",
       " 0.9995095075966433,\n",
       " 0.9995088224542755,\n",
       " 0.9995178143968869,\n",
       " 0.9995104934453685,\n",
       " 0.9995132179395911,\n",
       " 0.9995082043621507,\n",
       " 0.9995102121146554,\n",
       " 0.9995131966944704,\n",
       " 0.9995082187494422,\n",
       " 0.9995068897509101,\n",
       " 0.999505402840012,\n",
       " 0.9995020918930401,\n",
       " 0.9995069073232627,\n",
       " 0.9995084095505928,\n",
       " 0.9995051753792179,\n",
       " 0.9995062397431227,\n",
       " 0.9995083393975019,\n",
       " 0.9995059733574118,\n",
       " 0.9995087055491405,\n",
       " 0.9995020247947106]"
      ]
     },
     "execution_count": 15,
     "metadata": {},
     "output_type": "execute_result"
    }
   ],
   "source": [
    "lambda_vals"
   ]
  },
  {
   "cell_type": "code",
   "execution_count": null,
   "metadata": {},
   "outputs": [],
   "source": []
  }
 ],
 "metadata": {
  "kernelspec": {
   "display_name": "Python 3",
   "language": "python",
   "name": "python3"
  },
  "language_info": {
   "codemirror_mode": {
    "name": "ipython",
    "version": 3
   },
   "file_extension": ".py",
   "mimetype": "text/x-python",
   "name": "python",
   "nbconvert_exporter": "python",
   "pygments_lexer": "ipython3",
   "version": "3.7.1"
  }
 },
 "nbformat": 4,
 "nbformat_minor": 2
}
