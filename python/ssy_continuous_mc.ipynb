{
 "cells": [
  {
   "cell_type": "markdown",
   "metadata": {},
   "source": [
    "## Test and summary stats, SSY model without discretization"
   ]
  },
  {
   "cell_type": "code",
   "execution_count": 1,
   "metadata": {},
   "outputs": [],
   "source": [
    "import pandas as pd"
   ]
  },
  {
   "cell_type": "code",
   "execution_count": 2,
   "metadata": {},
   "outputs": [],
   "source": [
    "%run src/ssy_monte_carlo_test.py"
   ]
  },
  {
   "cell_type": "code",
   "execution_count": 3,
   "metadata": {},
   "outputs": [],
   "source": [
    "s = SSY()"
   ]
  },
  {
   "cell_type": "code",
   "execution_count": 4,
   "metadata": {},
   "outputs": [],
   "source": [
    "ssy_compute_stat = ssy_function_factory(s, parallelization_flag=True)"
   ]
  },
  {
   "cell_type": "code",
   "execution_count": 5,
   "metadata": {},
   "outputs": [
    {
     "data": {
      "text/plain": [
       "0.9995029617675288"
      ]
     },
     "execution_count": 5,
     "metadata": {},
     "output_type": "execute_result"
    }
   ],
   "source": [
    "ssy_compute_stat()"
   ]
  },
  {
   "cell_type": "code",
   "execution_count": 6,
   "metadata": {},
   "outputs": [
    {
     "data": {
      "text/plain": [
       "0.999522724184667"
      ]
     },
     "execution_count": 6,
     "metadata": {},
     "output_type": "execute_result"
    }
   ],
   "source": [
    "ssy_compute_stat()"
   ]
  },
  {
   "cell_type": "code",
   "execution_count": 7,
   "metadata": {},
   "outputs": [],
   "source": [
    "num_reps = 1000"
   ]
  },
  {
   "cell_type": "markdown",
   "metadata": {},
   "source": [
    "### Varying n"
   ]
  },
  {
   "cell_type": "code",
   "execution_count": 8,
   "metadata": {},
   "outputs": [
    {
     "data": {
      "text/plain": [
       "count    1000.000000\n",
       "mean        0.999500\n",
       "std         0.000089\n",
       "min         0.998847\n",
       "25%         0.999475\n",
       "50%         0.999525\n",
       "75%         0.999555\n",
       "max         0.999615\n",
       "dtype: float64"
      ]
     },
     "execution_count": 8,
     "metadata": {},
     "output_type": "execute_result"
    }
   ],
   "source": [
    "vals = np.empty(num_reps)\n",
    "for i in range(num_reps):\n",
    "    vals[i] = ssy_compute_stat(n=500, m=1000)\n",
    "\n",
    "v = pd.Series(vals)\n",
    "\n",
    "v.describe()"
   ]
  },
  {
   "cell_type": "code",
   "execution_count": 9,
   "metadata": {},
   "outputs": [
    {
     "data": {
      "text/plain": [
       "count    1000.000000\n",
       "mean        0.999479\n",
       "std         0.000088\n",
       "min         0.998642\n",
       "25%         0.999454\n",
       "50%         0.999501\n",
       "75%         0.999533\n",
       "max         0.999596\n",
       "dtype: float64"
      ]
     },
     "execution_count": 9,
     "metadata": {},
     "output_type": "execute_result"
    }
   ],
   "source": [
    "vals = np.empty(num_reps)\n",
    "for i in range(num_reps):\n",
    "    vals[i] = ssy_compute_stat(n=750, m=1000)\n",
    "\n",
    "v = pd.Series(vals)\n",
    "\n",
    "v.describe()"
   ]
  },
  {
   "cell_type": "code",
   "execution_count": 10,
   "metadata": {},
   "outputs": [
    {
     "data": {
      "text/plain": [
       "count    1000.000000\n",
       "mean        0.999481\n",
       "std         0.000073\n",
       "min         0.998945\n",
       "25%         0.999453\n",
       "50%         0.999497\n",
       "75%         0.999529\n",
       "max         0.999591\n",
       "dtype: float64"
      ]
     },
     "execution_count": 10,
     "metadata": {},
     "output_type": "execute_result"
    }
   ],
   "source": [
    "vals = np.empty(num_reps)\n",
    "for i in range(num_reps):\n",
    "    vals[i] = ssy_compute_stat(n=1000, m=1000)\n",
    "\n",
    "v = pd.Series(vals)\n",
    "\n",
    "v.describe()"
   ]
  },
  {
   "cell_type": "code",
   "execution_count": 11,
   "metadata": {},
   "outputs": [
    {
     "data": {
      "text/plain": [
       "count    1000.000000\n",
       "mean        0.999501\n",
       "std         0.000060\n",
       "min         0.998989\n",
       "25%         0.999473\n",
       "50%         0.999513\n",
       "75%         0.999543\n",
       "max         0.999598\n",
       "dtype: float64"
      ]
     },
     "execution_count": 11,
     "metadata": {},
     "output_type": "execute_result"
    }
   ],
   "source": [
    "vals = np.empty(num_reps)\n",
    "for i in range(num_reps):\n",
    "    vals[i] = ssy_compute_stat(n=1500, m=1000)\n",
    "\n",
    "v = pd.Series(vals)\n",
    "\n",
    "v.describe()"
   ]
  },
  {
   "cell_type": "code",
   "execution_count": 12,
   "metadata": {},
   "outputs": [
    {
     "data": {
      "text/plain": [
       "count    1000.000000\n",
       "mean        0.999520\n",
       "std         0.000054\n",
       "min         0.999219\n",
       "25%         0.999503\n",
       "50%         0.999533\n",
       "75%         0.999556\n",
       "max         0.999615\n",
       "dtype: float64"
      ]
     },
     "execution_count": 12,
     "metadata": {},
     "output_type": "execute_result"
    }
   ],
   "source": [
    "vals = np.empty(num_reps)\n",
    "for i in range(num_reps):\n",
    "    vals[i] = ssy_compute_stat(n=2000, m=1000)\n",
    "\n",
    "v = pd.Series(vals)\n",
    "\n",
    "v.describe()"
   ]
  },
  {
   "cell_type": "code",
   "execution_count": 13,
   "metadata": {},
   "outputs": [
    {
     "data": {
      "text/plain": [
       "count    1000.000000\n",
       "mean        0.999534\n",
       "std         0.000047\n",
       "min         0.999272\n",
       "25%         0.999514\n",
       "50%         0.999544\n",
       "75%         0.999568\n",
       "max         0.999611\n",
       "dtype: float64"
      ]
     },
     "execution_count": 13,
     "metadata": {},
     "output_type": "execute_result"
    }
   ],
   "source": [
    "vals = np.empty(num_reps)\n",
    "for i in range(num_reps):\n",
    "    vals[i] = ssy_compute_stat(n=2500, m=1000)\n",
    "\n",
    "v = pd.Series(vals)\n",
    "\n",
    "v.describe()"
   ]
  },
  {
   "cell_type": "code",
   "execution_count": 14,
   "metadata": {},
   "outputs": [
    {
     "data": {
      "text/plain": [
       "count    1000.000000\n",
       "mean        0.999549\n",
       "std         0.000042\n",
       "min         0.999312\n",
       "25%         0.999528\n",
       "50%         0.999559\n",
       "75%         0.999579\n",
       "max         0.999621\n",
       "dtype: float64"
      ]
     },
     "execution_count": 14,
     "metadata": {},
     "output_type": "execute_result"
    }
   ],
   "source": [
    "vals = np.empty(num_reps)\n",
    "for i in range(num_reps):\n",
    "    vals[i] = ssy_compute_stat(n=3000, m=1000)\n",
    "\n",
    "v = pd.Series(vals)\n",
    "\n",
    "v.describe()"
   ]
  },
  {
   "cell_type": "code",
   "execution_count": null,
   "metadata": {},
   "outputs": [],
   "source": []
  },
  {
   "cell_type": "markdown",
   "metadata": {},
   "source": [
    "### Varying m"
   ]
  },
  {
   "cell_type": "code",
   "execution_count": 20,
   "metadata": {},
   "outputs": [
    {
     "data": {
      "text/plain": [
       "count    1000.000000\n",
       "mean        0.999488\n",
       "std         0.000082\n",
       "min         0.998834\n",
       "25%         0.999456\n",
       "50%         0.999508\n",
       "75%         0.999544\n",
       "max         0.999618\n",
       "dtype: float64"
      ]
     },
     "execution_count": 20,
     "metadata": {},
     "output_type": "execute_result"
    }
   ],
   "source": [
    "vals = np.empty(num_reps)\n",
    "for i in range(num_reps):\n",
    "    vals[i] = ssy_compute_stat(n=1000, m=500)\n",
    "\n",
    "v = pd.Series(vals)\n",
    "\n",
    "v.describe()"
   ]
  },
  {
   "cell_type": "code",
   "execution_count": 21,
   "metadata": {},
   "outputs": [
    {
     "data": {
      "text/plain": [
       "count    1000.000000\n",
       "mean        0.999470\n",
       "std         0.000079\n",
       "min         0.998742\n",
       "25%         0.999441\n",
       "50%         0.999490\n",
       "75%         0.999522\n",
       "max         0.999584\n",
       "dtype: float64"
      ]
     },
     "execution_count": 21,
     "metadata": {},
     "output_type": "execute_result"
    }
   ],
   "source": [
    "vals = np.empty(num_reps)\n",
    "for i in range(num_reps):\n",
    "    vals[i] = ssy_compute_stat(n=1000, m=1000)\n",
    "\n",
    "v = pd.Series(vals)\n",
    "\n",
    "v.describe()"
   ]
  },
  {
   "cell_type": "code",
   "execution_count": 22,
   "metadata": {},
   "outputs": [
    {
     "data": {
      "text/plain": [
       "count    1000.000000\n",
       "mean        0.999449\n",
       "std         0.000080\n",
       "min         0.999007\n",
       "25%         0.999422\n",
       "50%         0.999469\n",
       "75%         0.999501\n",
       "max         0.999566\n",
       "dtype: float64"
      ]
     },
     "execution_count": 22,
     "metadata": {},
     "output_type": "execute_result"
    }
   ],
   "source": [
    "vals = np.empty(num_reps)\n",
    "for i in range(num_reps):\n",
    "    vals[i] = ssy_compute_stat(n=1000, m=2000)\n",
    "\n",
    "v = pd.Series(vals)\n",
    "\n",
    "v.describe()"
   ]
  },
  {
   "cell_type": "markdown",
   "metadata": {},
   "source": [
    "### Large m, n"
   ]
  },
  {
   "cell_type": "code",
   "execution_count": 23,
   "metadata": {},
   "outputs": [
    {
     "data": {
      "text/plain": [
       "count    1000.000000\n",
       "mean        0.999500\n",
       "std         0.000052\n",
       "min         0.999084\n",
       "25%         0.999476\n",
       "50%         0.999512\n",
       "75%         0.999536\n",
       "max         0.999580\n",
       "dtype: float64"
      ]
     },
     "execution_count": 23,
     "metadata": {},
     "output_type": "execute_result"
    }
   ],
   "source": [
    "vals = np.empty(num_reps)\n",
    "for i in range(num_reps):\n",
    "    vals[i] = ssy_compute_stat(n=2000, m=2000)\n",
    "\n",
    "v = pd.Series(vals)\n",
    "\n",
    "v.describe()"
   ]
  },
  {
   "cell_type": "code",
   "execution_count": 24,
   "metadata": {},
   "outputs": [
    {
     "data": {
      "text/plain": [
       "count    1000.000000\n",
       "mean        0.999476\n",
       "std         0.000065\n",
       "min         0.998894\n",
       "25%         0.999449\n",
       "50%         0.999490\n",
       "75%         0.999520\n",
       "max         0.999567\n",
       "dtype: float64"
      ]
     },
     "execution_count": 24,
     "metadata": {},
     "output_type": "execute_result"
    }
   ],
   "source": [
    "vals = np.empty(num_reps)\n",
    "for i in range(num_reps):\n",
    "    vals[i] = ssy_compute_stat(n=1500, m=2000)\n",
    "\n",
    "v = pd.Series(vals)\n",
    "\n",
    "v.describe()"
   ]
  },
  {
   "cell_type": "code",
   "execution_count": null,
   "metadata": {},
   "outputs": [],
   "source": []
  }
 ],
 "metadata": {
  "kernelspec": {
   "display_name": "Python 3",
   "language": "python",
   "name": "python3"
  },
  "language_info": {
   "codemirror_mode": {
    "name": "ipython",
    "version": 3
   },
   "file_extension": ".py",
   "mimetype": "text/x-python",
   "name": "python",
   "nbconvert_exporter": "python",
   "pygments_lexer": "ipython3",
   "version": "3.7.1"
  }
 },
 "nbformat": 4,
 "nbformat_minor": 2
}
