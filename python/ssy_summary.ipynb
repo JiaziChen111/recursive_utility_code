{
 "cells": [
  {
   "cell_type": "markdown",
   "metadata": {},
   "source": [
    "## Test and summary stats, SSY model"
   ]
  },
  {
   "cell_type": "code",
   "execution_count": 1,
   "metadata": {},
   "outputs": [],
   "source": [
    "import pandas as pd"
   ]
  },
  {
   "cell_type": "code",
   "execution_count": 2,
   "metadata": {},
   "outputs": [],
   "source": [
    "%run src/ssy_monte_carlo_test.py"
   ]
  },
  {
   "cell_type": "code",
   "execution_count": 3,
   "metadata": {},
   "outputs": [],
   "source": [
    "s = SSY()"
   ]
  },
  {
   "cell_type": "code",
   "execution_count": 4,
   "metadata": {},
   "outputs": [],
   "source": [
    "ssy_compute_stat = ssy_function_factory(s, parallelization_flag=True)"
   ]
  },
  {
   "cell_type": "code",
   "execution_count": 5,
   "metadata": {},
   "outputs": [
    {
     "data": {
      "text/plain": [
       "0.9993789302457432"
      ]
     },
     "execution_count": 5,
     "metadata": {},
     "output_type": "execute_result"
    }
   ],
   "source": [
    "ssy_compute_stat()"
   ]
  },
  {
   "cell_type": "code",
   "execution_count": 6,
   "metadata": {},
   "outputs": [
    {
     "data": {
      "text/plain": [
       "0.999159684389881"
      ]
     },
     "execution_count": 6,
     "metadata": {},
     "output_type": "execute_result"
    }
   ],
   "source": [
    "ssy_compute_stat()"
   ]
  },
  {
   "cell_type": "code",
   "execution_count": 7,
   "metadata": {},
   "outputs": [],
   "source": [
    "num_reps = 1000"
   ]
  },
  {
   "cell_type": "markdown",
   "metadata": {},
   "source": [
    "### Varying n"
   ]
  },
  {
   "cell_type": "code",
   "execution_count": 8,
   "metadata": {},
   "outputs": [
    {
     "data": {
      "text/plain": [
       "count    1000.000000\n",
       "mean        0.999437\n",
       "std         0.000135\n",
       "min         0.998266\n",
       "25%         0.999410\n",
       "50%         0.999474\n",
       "75%         0.999513\n",
       "max         0.999594\n",
       "dtype: float64"
      ]
     },
     "execution_count": 8,
     "metadata": {},
     "output_type": "execute_result"
    }
   ],
   "source": [
    "vals = np.empty(num_reps)\n",
    "for i in range(num_reps):\n",
    "    vals[i] = ssy_compute_stat(n=500, m=1000)\n",
    "\n",
    "v = pd.Series(vals)\n",
    "\n",
    "v.describe()"
   ]
  },
  {
   "cell_type": "code",
   "execution_count": 9,
   "metadata": {},
   "outputs": [
    {
     "data": {
      "text/plain": [
       "count    1000.000000\n",
       "mean        0.999443\n",
       "std         0.000101\n",
       "min         0.998451\n",
       "25%         0.999410\n",
       "50%         0.999472\n",
       "75%         0.999507\n",
       "max         0.999575\n",
       "dtype: float64"
      ]
     },
     "execution_count": 9,
     "metadata": {},
     "output_type": "execute_result"
    }
   ],
   "source": [
    "vals = np.empty(num_reps)\n",
    "for i in range(num_reps):\n",
    "    vals[i] = ssy_compute_stat(n=750, m=1000)\n",
    "\n",
    "v = pd.Series(vals)\n",
    "\n",
    "v.describe()"
   ]
  },
  {
   "cell_type": "code",
   "execution_count": 10,
   "metadata": {},
   "outputs": [
    {
     "data": {
      "text/plain": [
       "count    1000.000000\n",
       "mean        0.999457\n",
       "std         0.000086\n",
       "min         0.999015\n",
       "25%         0.999426\n",
       "50%         0.999478\n",
       "75%         0.999513\n",
       "max         0.999592\n",
       "dtype: float64"
      ]
     },
     "execution_count": 10,
     "metadata": {},
     "output_type": "execute_result"
    }
   ],
   "source": [
    "vals = np.empty(num_reps)\n",
    "for i in range(num_reps):\n",
    "    vals[i] = ssy_compute_stat(n=1000, m=1000)\n",
    "\n",
    "v = pd.Series(vals)\n",
    "\n",
    "v.describe()"
   ]
  },
  {
   "cell_type": "code",
   "execution_count": 11,
   "metadata": {},
   "outputs": [
    {
     "data": {
      "text/plain": [
       "count    1000.000000\n",
       "mean        0.999486\n",
       "std         0.000066\n",
       "min         0.999147\n",
       "25%         0.999457\n",
       "50%         0.999501\n",
       "75%         0.999530\n",
       "max         0.999602\n",
       "dtype: float64"
      ]
     },
     "execution_count": 11,
     "metadata": {},
     "output_type": "execute_result"
    }
   ],
   "source": [
    "vals = np.empty(num_reps)\n",
    "for i in range(num_reps):\n",
    "    vals[i] = ssy_compute_stat(n=1500, m=1000)\n",
    "\n",
    "v = pd.Series(vals)\n",
    "\n",
    "v.describe()"
   ]
  },
  {
   "cell_type": "code",
   "execution_count": 12,
   "metadata": {},
   "outputs": [
    {
     "data": {
      "text/plain": [
       "count    1000.000000\n",
       "mean        0.999512\n",
       "std         0.000055\n",
       "min         0.999249\n",
       "25%         0.999489\n",
       "50%         0.999523\n",
       "75%         0.999549\n",
       "max         0.999608\n",
       "dtype: float64"
      ]
     },
     "execution_count": 12,
     "metadata": {},
     "output_type": "execute_result"
    }
   ],
   "source": [
    "vals = np.empty(num_reps)\n",
    "for i in range(num_reps):\n",
    "    vals[i] = ssy_compute_stat(n=2000, m=1000)\n",
    "\n",
    "v = pd.Series(vals)\n",
    "\n",
    "v.describe()"
   ]
  },
  {
   "cell_type": "code",
   "execution_count": 13,
   "metadata": {},
   "outputs": [
    {
     "data": {
      "text/plain": [
       "count    1000.000000\n",
       "mean        0.999529\n",
       "std         0.000049\n",
       "min         0.999289\n",
       "25%         0.999508\n",
       "50%         0.999538\n",
       "75%         0.999562\n",
       "max         0.999613\n",
       "dtype: float64"
      ]
     },
     "execution_count": 13,
     "metadata": {},
     "output_type": "execute_result"
    }
   ],
   "source": [
    "vals = np.empty(num_reps)\n",
    "for i in range(num_reps):\n",
    "    vals[i] = ssy_compute_stat(n=2500, m=1000)\n",
    "\n",
    "v = pd.Series(vals)\n",
    "\n",
    "v.describe()"
   ]
  },
  {
   "cell_type": "code",
   "execution_count": 14,
   "metadata": {},
   "outputs": [
    {
     "data": {
      "text/plain": [
       "count    1000.000000\n",
       "mean        0.999542\n",
       "std         0.000045\n",
       "min         0.999314\n",
       "25%         0.999519\n",
       "50%         0.999551\n",
       "75%         0.999573\n",
       "max         0.999632\n",
       "dtype: float64"
      ]
     },
     "execution_count": 14,
     "metadata": {},
     "output_type": "execute_result"
    }
   ],
   "source": [
    "vals = np.empty(num_reps)\n",
    "for i in range(num_reps):\n",
    "    vals[i] = ssy_compute_stat(n=3000, m=1000)\n",
    "\n",
    "v = pd.Series(vals)\n",
    "\n",
    "v.describe()"
   ]
  },
  {
   "cell_type": "code",
   "execution_count": null,
   "metadata": {},
   "outputs": [],
   "source": []
  },
  {
   "cell_type": "markdown",
   "metadata": {},
   "source": [
    "### Varying m"
   ]
  },
  {
   "cell_type": "code",
   "execution_count": 20,
   "metadata": {},
   "outputs": [
    {
     "data": {
      "text/plain": [
       "count    1000.000000\n",
       "mean        0.999488\n",
       "std         0.000082\n",
       "min         0.998834\n",
       "25%         0.999456\n",
       "50%         0.999508\n",
       "75%         0.999544\n",
       "max         0.999618\n",
       "dtype: float64"
      ]
     },
     "execution_count": 20,
     "metadata": {},
     "output_type": "execute_result"
    }
   ],
   "source": [
    "vals = np.empty(num_reps)\n",
    "for i in range(num_reps):\n",
    "    vals[i] = ssy_compute_stat(n=1000, m=500)\n",
    "\n",
    "v = pd.Series(vals)\n",
    "\n",
    "v.describe()"
   ]
  },
  {
   "cell_type": "code",
   "execution_count": 21,
   "metadata": {},
   "outputs": [
    {
     "data": {
      "text/plain": [
       "count    1000.000000\n",
       "mean        0.999470\n",
       "std         0.000079\n",
       "min         0.998742\n",
       "25%         0.999441\n",
       "50%         0.999490\n",
       "75%         0.999522\n",
       "max         0.999584\n",
       "dtype: float64"
      ]
     },
     "execution_count": 21,
     "metadata": {},
     "output_type": "execute_result"
    }
   ],
   "source": [
    "vals = np.empty(num_reps)\n",
    "for i in range(num_reps):\n",
    "    vals[i] = ssy_compute_stat(n=1000, m=1000)\n",
    "\n",
    "v = pd.Series(vals)\n",
    "\n",
    "v.describe()"
   ]
  },
  {
   "cell_type": "code",
   "execution_count": 22,
   "metadata": {},
   "outputs": [
    {
     "data": {
      "text/plain": [
       "count    1000.000000\n",
       "mean        0.999449\n",
       "std         0.000080\n",
       "min         0.999007\n",
       "25%         0.999422\n",
       "50%         0.999469\n",
       "75%         0.999501\n",
       "max         0.999566\n",
       "dtype: float64"
      ]
     },
     "execution_count": 22,
     "metadata": {},
     "output_type": "execute_result"
    }
   ],
   "source": [
    "vals = np.empty(num_reps)\n",
    "for i in range(num_reps):\n",
    "    vals[i] = ssy_compute_stat(n=1000, m=2000)\n",
    "\n",
    "v = pd.Series(vals)\n",
    "\n",
    "v.describe()"
   ]
  },
  {
   "cell_type": "markdown",
   "metadata": {},
   "source": [
    "### Large m, n"
   ]
  },
  {
   "cell_type": "code",
   "execution_count": 23,
   "metadata": {},
   "outputs": [
    {
     "data": {
      "text/plain": [
       "count    1000.000000\n",
       "mean        0.999500\n",
       "std         0.000052\n",
       "min         0.999084\n",
       "25%         0.999476\n",
       "50%         0.999512\n",
       "75%         0.999536\n",
       "max         0.999580\n",
       "dtype: float64"
      ]
     },
     "execution_count": 23,
     "metadata": {},
     "output_type": "execute_result"
    }
   ],
   "source": [
    "vals = np.empty(num_reps)\n",
    "for i in range(num_reps):\n",
    "    vals[i] = ssy_compute_stat(n=2000, m=2000)\n",
    "\n",
    "v = pd.Series(vals)\n",
    "\n",
    "v.describe()"
   ]
  },
  {
   "cell_type": "code",
   "execution_count": 24,
   "metadata": {},
   "outputs": [
    {
     "data": {
      "text/plain": [
       "count    1000.000000\n",
       "mean        0.999476\n",
       "std         0.000065\n",
       "min         0.998894\n",
       "25%         0.999449\n",
       "50%         0.999490\n",
       "75%         0.999520\n",
       "max         0.999567\n",
       "dtype: float64"
      ]
     },
     "execution_count": 24,
     "metadata": {},
     "output_type": "execute_result"
    }
   ],
   "source": [
    "vals = np.empty(num_reps)\n",
    "for i in range(num_reps):\n",
    "    vals[i] = ssy_compute_stat(n=1500, m=2000)\n",
    "\n",
    "v = pd.Series(vals)\n",
    "\n",
    "v.describe()"
   ]
  },
  {
   "cell_type": "code",
   "execution_count": null,
   "metadata": {},
   "outputs": [],
   "source": []
  }
 ],
 "metadata": {
  "kernelspec": {
   "display_name": "Python 3",
   "language": "python",
   "name": "python3"
  },
  "language_info": {
   "codemirror_mode": {
    "name": "ipython",
    "version": 3
   },
   "file_extension": ".py",
   "mimetype": "text/x-python",
   "name": "python",
   "nbconvert_exporter": "python",
   "pygments_lexer": "ipython3",
   "version": "3.7.1"
  }
 },
 "nbformat": 4,
 "nbformat_minor": 2
}
