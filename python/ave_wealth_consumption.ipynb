{
 "cells": [
  {
   "cell_type": "code",
   "execution_count": 65,
   "metadata": {},
   "outputs": [],
   "source": [
    "import numpy as np\n",
    "import matplotlib.pyplot as plt\n",
    "import quantecon as qe"
   ]
  },
  {
   "cell_type": "code",
   "execution_count": 66,
   "metadata": {},
   "outputs": [],
   "source": [
    "%run src/ssy_fp_discretized.py"
   ]
  },
  {
   "cell_type": "code",
   "execution_count": 76,
   "metadata": {},
   "outputs": [],
   "source": [
    "ssy = SSY()"
   ]
  },
  {
   "cell_type": "code",
   "execution_count": 82,
   "metadata": {},
   "outputs": [],
   "source": [
    "G = 3\n",
    "D = 3"
   ]
  },
  {
   "cell_type": "code",
   "execution_count": 89,
   "metadata": {},
   "outputs": [],
   "source": [
    "\n",
    "def wealth_plot(R, \n",
    "                 x, y, \n",
    "                 xlb, ylb, \n",
    "                 txt_flag=\"by\", \n",
    "                 dot_loc=None,\n",
    "                 coords=(-225, 30)):\n",
    "\n",
    "    if txt_flag == \"by\":\n",
    "        text = \"Bansal and Yaron\"\n",
    "    else:\n",
    "        text = \"Schorfheide, Song and Yaron\"\n",
    "\n",
    "    param1_value, param2_value = dot_loc\n",
    "\n",
    "    fig, ax = plt.subplots(figsize=(10, 5.7))\n",
    "\n",
    "    #cs1 = ax.contourf(x, y, R.T, alpha=0.5)\n",
    "\n",
    "    #ctr1 = ax.contour(x, y, R.T, levels=[1.0])\n",
    "\n",
    "    plt.clabel(ctr1, inline=1, fontsize=13)\n",
    "    plt.colorbar(cs1, ax=ax)\n",
    "\n",
    "    ax.annotate(text, \n",
    "                xy=(param1_value, param2_value),  \n",
    "                xycoords=\"data\",\n",
    "                xytext=coords,\n",
    "                textcoords=\"offset points\",\n",
    "                fontsize=12,\n",
    "                arrowprops={\"arrowstyle\" : \"->\"})\n",
    "\n",
    "    ax.plot([param1_value], [param2_value],  \"ko\", alpha=0.6)\n",
    "\n",
    "    ax.set_xlabel(xlb, fontsize=16)\n",
    "    ax.set_ylabel(ylb, fontsize=16)\n",
    "\n",
    "    plt.show()\n",
    "\n"
   ]
  },
  {
   "cell_type": "code",
   "execution_count": 90,
   "metadata": {},
   "outputs": [],
   "source": [
    "psi_vec = np.linspace(1.1, 4.0, G)\n",
    "mu_vec = np.linspace(0.0005, 0.003, G)\n",
    "\n",
    "R = np.empty((G, G))"
   ]
  },
  {
   "cell_type": "code",
   "execution_count": 91,
   "metadata": {},
   "outputs": [],
   "source": [
    "dot_loc = ssy.ψ, ssy.μ_c"
   ]
  },
  {
   "cell_type": "code",
   "execution_count": 92,
   "metadata": {},
   "outputs": [],
   "source": [
    "for i, ψ in enumerate(psi_vec):\n",
    "    for j, μ_c in enumerate(mu_vec):\n",
    "        ssy.ψ = ψ\n",
    "        ssy.μ_c = μ_c\n",
    "        R[i, j] = average_wealth_cons(ssy, K=D, I=D, J=D, verbose=False)\n"
   ]
  },
  {
   "cell_type": "code",
   "execution_count": 93,
   "metadata": {},
   "outputs": [
    {
     "ename": "NameError",
     "evalue": "name 'ctr1' is not defined",
     "output_type": "error",
     "traceback": [
      "\u001b[0;31m---------------------------------------------------------------------------\u001b[0m",
      "\u001b[0;31mNameError\u001b[0m                                 Traceback (most recent call last)",
      "\u001b[0;32m<ipython-input-93-fc5e08900845>\u001b[0m in \u001b[0;36m<module>\u001b[0;34m\u001b[0m\n\u001b[1;32m      4\u001b[0m                 \u001b[0mtxt_flag\u001b[0m\u001b[0;34m=\u001b[0m\u001b[0;34m'ssy'\u001b[0m\u001b[0;34m,\u001b[0m\u001b[0;34m\u001b[0m\u001b[0;34m\u001b[0m\u001b[0m\n\u001b[1;32m      5\u001b[0m                 \u001b[0mdot_loc\u001b[0m\u001b[0;34m=\u001b[0m\u001b[0mdot_loc\u001b[0m\u001b[0;34m,\u001b[0m\u001b[0;34m\u001b[0m\u001b[0;34m\u001b[0m\u001b[0m\n\u001b[0;32m----> 6\u001b[0;31m                 coords=(25, 25))\n\u001b[0m",
      "\u001b[0;32m<ipython-input-89-3bbda6a125bb>\u001b[0m in \u001b[0;36mwealth_plot\u001b[0;34m(R, x, y, xlb, ylb, txt_flag, dot_loc, coords)\u001b[0m\n\u001b[1;32m     20\u001b[0m     \u001b[0;31m#ctr1 = ax.contour(x, y, R.T, levels=[1.0])\u001b[0m\u001b[0;34m\u001b[0m\u001b[0;34m\u001b[0m\u001b[0;34m\u001b[0m\u001b[0m\n\u001b[1;32m     21\u001b[0m \u001b[0;34m\u001b[0m\u001b[0m\n\u001b[0;32m---> 22\u001b[0;31m     \u001b[0mplt\u001b[0m\u001b[0;34m.\u001b[0m\u001b[0mclabel\u001b[0m\u001b[0;34m(\u001b[0m\u001b[0mctr1\u001b[0m\u001b[0;34m,\u001b[0m \u001b[0minline\u001b[0m\u001b[0;34m=\u001b[0m\u001b[0;36m1\u001b[0m\u001b[0;34m,\u001b[0m \u001b[0mfontsize\u001b[0m\u001b[0;34m=\u001b[0m\u001b[0;36m13\u001b[0m\u001b[0;34m)\u001b[0m\u001b[0;34m\u001b[0m\u001b[0;34m\u001b[0m\u001b[0m\n\u001b[0m\u001b[1;32m     23\u001b[0m     \u001b[0mplt\u001b[0m\u001b[0;34m.\u001b[0m\u001b[0mcolorbar\u001b[0m\u001b[0;34m(\u001b[0m\u001b[0mcs1\u001b[0m\u001b[0;34m,\u001b[0m \u001b[0max\u001b[0m\u001b[0;34m=\u001b[0m\u001b[0max\u001b[0m\u001b[0;34m)\u001b[0m\u001b[0;34m\u001b[0m\u001b[0;34m\u001b[0m\u001b[0m\n\u001b[1;32m     24\u001b[0m \u001b[0;34m\u001b[0m\u001b[0m\n",
      "\u001b[0;31mNameError\u001b[0m: name 'ctr1' is not defined"
     ]
    },
    {
     "data": {
      "image/png": "[encoded data removed]",
      "text/plain": [
       "<Figure size 720x410.4 with 1 Axes>"
      ]
     },
     "metadata": {
      "needs_background": "light"
     },
     "output_type": "display_data"
    }
   ],
   "source": [
    "wealth_plot(R, \n",
    "               psi_vec, mu_vec, \n",
    "                \"$\\psi$\", \"$\\mu_c$\", \n",
    "                txt_flag='ssy',\n",
    "                dot_loc=dot_loc,\n",
    "                coords=(25, 25))"
   ]
  },
  {
   "cell_type": "code",
   "execution_count": null,
   "metadata": {},
   "outputs": [],
   "source": []
  }
 ],
 "metadata": {
  "kernelspec": {
   "display_name": "Python 3",
   "language": "python",
   "name": "python3"
  },
  "language_info": {
   "codemirror_mode": {
    "name": "ipython",
    "version": 3
   },
   "file_extension": ".py",
   "mimetype": "text/x-python",
   "name": "python",
   "nbconvert_exporter": "python",
   "pygments_lexer": "ipython3",
   "version": "3.7.1"
  }
 },
 "nbformat": 4,
 "nbformat_minor": 2
}
