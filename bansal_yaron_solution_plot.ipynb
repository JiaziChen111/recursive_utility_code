{
 "cells": [
  {
   "cell_type": "markdown",
   "metadata": {},
   "source": [
    "## Utility Plots in the Bansal Yaron (and BKY) Model"
   ]
  },
  {
   "cell_type": "code",
   "execution_count": 1,
   "metadata": {},
   "outputs": [
    {
     "name": "stderr",
     "output_type": "stream",
     "text": [
      "\u001b[1m\u001b[33mWARNING: \u001b[39m\u001b[22m\u001b[33mreplacing docs for 'compute_spec_rad :: Tuple{Array{T,2} where T}' in module 'Main'.\u001b[39m\n",
      "\u001b[1m\u001b[33mWARNING: \u001b[39m\u001b[22m\u001b[33mreplacing docs for 'EpsteinZin :: Union{}' in module 'Main'.\u001b[39m\n",
      "\u001b[1m\u001b[33mWARNING: \u001b[39m\u001b[22m\u001b[33mreplacing docs for 'EpsteinZin :: Tuple{Any,Any,Any}' in module 'Main'.\u001b[39m\n",
      "\u001b[1m\u001b[33mWARNING: \u001b[39m\u001b[22m\u001b[33mreplacing docs for 'compute_spec_rad :: Tuple{Array{T,2} where T}' in module 'Main'.\u001b[39m\n",
      "\u001b[1m\u001b[33mWARNING: \u001b[39m\u001b[22m\u001b[33mreplacing docs for 'EpsteinZin :: Union{}' in module 'Main'.\u001b[39m\n",
      "\u001b[1m\u001b[33mWARNING: \u001b[39m\u001b[22m\u001b[33mreplacing docs for 'EpsteinZin :: Tuple{Any,Any,Any}' in module 'Main'.\u001b[39m\n",
      "\u001b[1m\u001b[33mWARNING: \u001b[39m\u001b[22m\u001b[33mreplacing docs for 'StochasticVolatility :: Union{}' in module 'Main'.\u001b[39m\n",
      "\u001b[1m\u001b[33mWARNING: \u001b[39m\u001b[22m\u001b[33mreplacing docs for 'multi_from_single :: Tuple{Any,Any}' in module 'Main'.\u001b[39m\n",
      "\u001b[1m\u001b[33mWARNING: \u001b[39m\u001b[22m\u001b[33mreplacing docs for 'discretize_sv :: Tuple{StochasticVolatility,Integer,Integer}' in module 'Main'.\u001b[39m\n",
      "\u001b[1m\u001b[33mWARNING: \u001b[39m\u001b[22m\u001b[33mreplacing docs for 'EpsteinZinBY :: Tuple{}' in module 'Main'.\u001b[39m\n",
      "\u001b[1m\u001b[33mWARNING: \u001b[39m\u001b[22m\u001b[33mreplacing docs for 'EpsteinZinBKY :: Tuple{}' in module 'Main'.\u001b[39m\n"
     ]
    },
    {
     "data": {
      "text/plain": [
       "compute_fp_bansal_yaron"
      ]
     },
     "execution_count": 1,
     "metadata": {},
     "output_type": "execute_result"
    }
   ],
   "source": [
    "include(\"bansal_yaron_parameters.jl\")\n",
    "include(\"bansal_yaron_discretized.jl\")"
   ]
  },
  {
   "cell_type": "code",
   "execution_count": 2,
   "metadata": {},
   "outputs": [
    {
     "data": {
      "text/plain": [
       "PyPlot"
      ]
     },
     "execution_count": 2,
     "metadata": {},
     "output_type": "execute_result"
    }
   ],
   "source": [
    "using PyPlot\n",
    "plt = PyPlot"
   ]
  },
  {
   "cell_type": "markdown",
   "metadata": {},
   "source": [
    "### Spectral Radius Plot, Bansal--Yaron Parameters"
   ]
  },
  {
   "cell_type": "code",
   "execution_count": 3,
   "metadata": {},
   "outputs": [
    {
     "data": {
      "text/html": [
       "20"
      ],
      "text/plain": [
       "20"
      ]
     },
     "execution_count": 3,
     "metadata": {},
     "output_type": "execute_result"
    }
   ],
   "source": [
    "I=14\n",
    "J=24\n",
    "L=20"
   ]
  },
  {
   "cell_type": "code",
   "execution_count": 4,
   "metadata": {},
   "outputs": [
    {
     "data": {
      "text/plain": [
       "StochasticVolatility{Float64}(0.979, 0.044, 0.987, 7.909200000000006e-7, 2.3e-6)"
      ]
     },
     "execution_count": 4,
     "metadata": {},
     "output_type": "execute_result"
    }
   ],
   "source": [
    "ez = EpsteinZinBY()\n",
    "sv = StochasticVolatilityBY()"
   ]
  },
  {
   "cell_type": "code",
   "execution_count": 5,
   "metadata": {},
   "outputs": [
    {
     "ename": "LoadError",
     "evalue": "\u001b[91mTypeError: Type: in TV, expected TV<:(AbstractArray{T,1} where T), got Type{Array{Float64,2}}\u001b[39m",
     "output_type": "error",
     "traceback": [
      "\u001b[91mTypeError: Type: in TV, expected TV<:(AbstractArray{T,1} where T), got Type{Array{Float64,2}}\u001b[39m",
      "",
      "Stacktrace:",
      " [1] \u001b[1m#discretize_sv#8\u001b[22m\u001b[22m\u001b[1m(\u001b[22m\u001b[22m::Bool, ::Function, ::StochasticVolatility{Float64}, ::Int64, ::Int64\u001b[1m)\u001b[22m\u001b[22m at \u001b[1m/home/john/sync_dir/papers/recursive_utility/code/bansal_yaron_consumption.jl:125\u001b[22m\u001b[22m",
      " [2] \u001b[1m#compute_fp_bansal_yaron#16\u001b[22m\u001b[22m\u001b[1m(\u001b[22m\u001b[22m::Float64, ::Int64, ::Int64, ::Int64, ::Float64, ::Int64, ::Function, ::EpsteinZin{Float64}, ::StochasticVolatility{Float64}\u001b[1m)\u001b[22m\u001b[22m at \u001b[1m/home/john/sync_dir/papers/recursive_utility/code/bansal_yaron_discretized.jl:68\u001b[22m\u001b[22m",
      " [3] \u001b[1m(::#kw##compute_fp_bansal_yaron)\u001b[22m\u001b[22m\u001b[1m(\u001b[22m\u001b[22m::Array{Any,1}, ::#compute_fp_bansal_yaron, ::EpsteinZin{Float64}, ::StochasticVolatility{Float64}\u001b[1m)\u001b[22m\u001b[22m at \u001b[1m./<missing>:0\u001b[22m\u001b[22m"
     ]
    }
   ],
   "source": [
    "σ_vals, z_vals, W = compute_fp_bansal_yaron(ez, sv, I=I, J=J, L=L);"
   ]
  },
  {
   "cell_type": "code",
   "execution_count": 6,
   "metadata": {},
   "outputs": [
    {
     "ename": "LoadError",
     "evalue": "\u001b[91mUndefVarError: W not defined\u001b[39m",
     "output_type": "error",
     "traceback": [
      "\u001b[91mUndefVarError: W not defined\u001b[39m",
      ""
     ]
    }
   ],
   "source": [
    "size(W)"
   ]
  },
  {
   "cell_type": "code",
   "execution_count": 7,
   "metadata": {},
   "outputs": [
    {
     "ename": "LoadError",
     "evalue": "\u001b[91mUndefVarError: σ_vals not defined\u001b[39m",
     "output_type": "error",
     "traceback": [
      "\u001b[91mUndefVarError: σ_vals not defined\u001b[39m",
      ""
     ]
    }
   ],
   "source": [
    "σ_vals"
   ]
  },
  {
   "cell_type": "code",
   "execution_count": 8,
   "metadata": {
    "scrolled": false
   },
   "outputs": [
    {
     "ename": "LoadError",
     "evalue": "\u001b[91mUndefVarError: z_vals not defined\u001b[39m",
     "output_type": "error",
     "traceback": [
      "\u001b[91mUndefVarError: z_vals not defined\u001b[39m",
      ""
     ]
    }
   ],
   "source": [
    "using QuantEcon: meshgrid\n",
    "\n",
    "fig = figure(figsize=(8,6))\n",
    "ax = fig[:gca](projection=\"3d\")\n",
    "ax[:view_init](40, 230)\n",
    "\n",
    "xgrid, ygrid = meshgrid(z_vals, σ_vals)\n",
    "\n",
    "ctr1 = ax[:plot_surface](xgrid, \n",
    "                         ygrid, \n",
    "                         W,\n",
    "                         cmap=ColorMap(\"jet\"),\n",
    "                         alpha=0.7,\n",
    "                         rstride=1, cstride=1,\n",
    "                         linewidth=0.5)\n",
    "\n",
    "#plt.clabel(ctr1, inline=1, fontsize=13)\n",
    "#plt.colorbar(ctr1, ax=ax)\n",
    "\n",
    "ax[:set_zlabel](\"V\", labelpad=10)\n",
    "ax[:set_xlabel](\"z\", labelpad=10, fontsize=14)\n",
    "ax[:set_ylabel](\"σ\", labelpad=10, fontsize=12)\n",
    "\n",
    "#plt.savefig(\"foo.pdf\")\n",
    "plt.show()"
   ]
  },
  {
   "cell_type": "code",
   "execution_count": 9,
   "metadata": {},
   "outputs": [
    {
     "ename": "LoadError",
     "evalue": "\u001b[91mUndefVarError: σ_vals not defined\u001b[39m",
     "output_type": "error",
     "traceback": [
      "\u001b[91mUndefVarError: σ_vals not defined\u001b[39m",
      ""
     ]
    }
   ],
   "source": [
    "fig, ax = plt.subplots(figsize=(10, 5.7))\n",
    "\n",
    "cs1 = ax[:contourf](σ_vals, \n",
    "                    z_vals, \n",
    "                    W',\n",
    "                    alpha=0.6)\n",
    "                    #levels=lvs,\n",
    "\n",
    "\n",
    "ctr1 = ax[:contour](σ_vals, \n",
    "                    z_vals, \n",
    "                    W')\n",
    "\n",
    "plt.clabel(ctr1, inline=1, fontsize=13)\n",
    "plt.colorbar(cs1, ax=ax)\n",
    "\n",
    "ax[:set_title](\"Utility\")\n",
    "ax[:set_xlabel](\"σ\", fontsize=16)\n",
    "ax[:set_ylabel](\"z\", fontsize=16)\n",
    "\n",
    "#plt.savefig(\"foo.pdf\")\n",
    "plt.show()"
   ]
  },
  {
   "cell_type": "markdown",
   "metadata": {
    "collapsed": true
   },
   "source": [
    "### Utility Plot with BKY Parameters"
   ]
  },
  {
   "cell_type": "code",
   "execution_count": 10,
   "metadata": {},
   "outputs": [
    {
     "data": {
      "text/plain": [
       "StochasticVolatility{Float64}(0.975, 0.038, 0.999, 5.1840000000000046e-8, 2.8e-6)"
      ]
     },
     "execution_count": 10,
     "metadata": {},
     "output_type": "execute_result"
    }
   ],
   "source": [
    "ez = EpsteinZinBKY()\n",
    "sv = StochasticVolatilityBKY()"
   ]
  },
  {
   "cell_type": "code",
   "execution_count": 14,
   "metadata": {},
   "outputs": [
    {
     "ename": "LoadError",
     "evalue": "\u001b[91mTypeError: Type: in TV, expected TV<:(AbstractArray{T,1} where T), got Type{Array{Float64,2}}\u001b[39m",
     "output_type": "error",
     "traceback": [
      "\u001b[91mTypeError: Type: in TV, expected TV<:(AbstractArray{T,1} where T), got Type{Array{Float64,2}}\u001b[39m",
      "",
      "Stacktrace:",
      " [1] \u001b[1m#discretize_sv#8\u001b[22m\u001b[22m\u001b[1m(\u001b[22m\u001b[22m::Bool, ::Function, ::StochasticVolatility{Float64}, ::Int64, ::Int64\u001b[1m)\u001b[22m\u001b[22m at \u001b[1m/home/john/sync_dir/papers/recursive_utility/code/bansal_yaron_consumption.jl:125\u001b[22m\u001b[22m",
      " [2] \u001b[1m#compute_fp_bansal_yaron#16\u001b[22m\u001b[22m\u001b[1m(\u001b[22m\u001b[22m::Float64, ::Int64, ::Int64, ::Int64, ::Float64, ::Int64, ::Function, ::EpsteinZin{Float64}, ::StochasticVolatility{Float64}\u001b[1m)\u001b[22m\u001b[22m at \u001b[1m/home/john/sync_dir/papers/recursive_utility/code/bansal_yaron_discretized.jl:68\u001b[22m\u001b[22m",
      " [3] \u001b[1m(::#kw##compute_fp_bansal_yaron)\u001b[22m\u001b[22m\u001b[1m(\u001b[22m\u001b[22m::Array{Any,1}, ::#compute_fp_bansal_yaron, ::EpsteinZin{Float64}, ::StochasticVolatility{Float64}\u001b[1m)\u001b[22m\u001b[22m at \u001b[1m./<missing>:0\u001b[22m\u001b[22m"
     ]
    }
   ],
   "source": [
    "σ_vals, z_vals, W = compute_fp_bansal_yaron(ez, sv, I=I, J=J, L=L);"
   ]
  },
  {
   "cell_type": "code",
   "execution_count": 12,
   "metadata": {},
   "outputs": [
    {
     "ename": "LoadError",
     "evalue": "\u001b[91mUndefVarError: σ_vals not defined\u001b[39m",
     "output_type": "error",
     "traceback": [
      "\u001b[91mUndefVarError: σ_vals not defined\u001b[39m",
      ""
     ]
    }
   ],
   "source": [
    "fig, ax = plt.subplots(figsize=(10, 5.7))\n",
    "\n",
    "cs1 = ax[:contourf](σ_vals, \n",
    "                    z_vals, \n",
    "                    W',\n",
    "                    alpha=0.6)\n",
    "                    #levels=lvs,\n",
    "\n",
    "\n",
    "ctr1 = ax[:contour](σ_vals, \n",
    "                    z_vals, \n",
    "                    W')\n",
    "\n",
    "plt.clabel(ctr1, inline=1, fontsize=13)\n",
    "plt.colorbar(cs1, ax=ax)\n",
    "\n",
    "ax[:set_title](\"Utility\")\n",
    "ax[:set_xlabel](\"σ\", fontsize=16)\n",
    "ax[:set_ylabel](\"z\", fontsize=16)\n",
    "\n",
    "#plt.savefig(\"foo.pdf\")\n",
    "plt.show()"
   ]
  },
  {
   "cell_type": "code",
   "execution_count": 13,
   "metadata": {},
   "outputs": [
    {
     "ename": "LoadError",
     "evalue": "\u001b[91mUndefVarError: σ_vals not defined\u001b[39m",
     "output_type": "error",
     "traceback": [
      "\u001b[91mUndefVarError: σ_vals not defined\u001b[39m",
      ""
     ]
    }
   ],
   "source": [
    "\n",
    "fig = figure(figsize=(8,6))\n",
    "ax = fig[:gca](projection=\"3d\")\n",
    "ax[:view_init](40, 230)\n",
    "\n",
    "xgrid, ygrid = meshgrid(σ_vals, z_vals)\n",
    "\n",
    "ctr1 = ax[:plot_surface](xgrid, \n",
    "                         ygrid, \n",
    "                         cmap=ColorMap(\"jet\"),\n",
    "                         alpha=0.7,\n",
    "                         rstride=1, cstride=1,\n",
    "                         linewidth=0.5,\n",
    "                         W')\n",
    "\n",
    "#plt.clabel(ctr1, inline=1, fontsize=13)\n",
    "#plt.colorbar(ctr1, ax=ax)\n",
    "\n",
    "ax[:set_zlabel](\"V\", labelpad=10)\n",
    "ax[:set_xlabel](\"σ\", labelpad=10, fontsize=14)\n",
    "ax[:set_ylabel](\"z\", labelpad=10, fontsize=12)\n",
    "\n",
    "#plt.savefig(\"foo.pdf\")\n",
    "plt.show()"
   ]
  },
  {
   "cell_type": "code",
   "execution_count": null,
   "metadata": {
    "collapsed": true
   },
   "outputs": [],
   "source": []
  }
 ],
 "metadata": {
  "kernelspec": {
   "display_name": "Julia 0.6.0",
   "language": "julia",
   "name": "julia-0.6"
  },
  "language_info": {
   "file_extension": ".jl",
   "mimetype": "application/julia",
   "name": "julia",
   "version": "0.6.0"
  }
 },
 "nbformat": 4,
 "nbformat_minor": 2
}
