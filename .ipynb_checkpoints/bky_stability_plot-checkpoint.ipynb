{
 "cells": [
  {
   "cell_type": "markdown",
   "metadata": {},
   "source": [
    "## Stability in the BKY Model"
   ]
  },
  {
   "cell_type": "code",
   "execution_count": 1,
   "metadata": {},
   "outputs": [
    {
     "data": {
      "text/plain": [
       "compute_fp_bansal_yaron"
      ]
     },
     "execution_count": 1,
     "metadata": {},
     "output_type": "execute_result"
    }
   ],
   "source": [
    "include(\"src/utilities.jl\")\n",
    "include(\"src/bansal_yaron_discretized.jl\")"
   ]
  },
  {
   "cell_type": "code",
   "execution_count": 2,
   "metadata": {},
   "outputs": [
    {
     "data": {
      "text/plain": [
       "PyPlot"
      ]
     },
     "execution_count": 2,
     "metadata": {},
     "output_type": "execute_result"
    }
   ],
   "source": [
    "using PyPlot\n",
    "plt = PyPlot"
   ]
  },
  {
   "cell_type": "markdown",
   "metadata": {},
   "source": [
    "Default parameter values:"
   ]
  },
  {
   "cell_type": "markdown",
   "metadata": {
    "collapsed": true
   },
   "source": [
    "### Spectral Radius Plot with BKY Parameters"
   ]
  },
  {
   "cell_type": "code",
   "execution_count": 3,
   "metadata": {},
   "outputs": [
    {
     "data": {
      "text/plain": [
       "StochasticVolatility{Float64}(0.975, 0.038, 0.999, 5.184e-8, 2.8e-6)"
      ]
     },
     "execution_count": 3,
     "metadata": {},
     "output_type": "execute_result"
    }
   ],
   "source": [
    "ez_bky = EpsteinZinBKY()\n",
    "sv_bky = StochasticVolatilityBKY()"
   ]
  },
  {
   "cell_type": "code",
   "execution_count": null,
   "metadata": {
    "collapsed": true
   },
   "outputs": [],
   "source": [
    "x_vals = linspace(1.25, 2.25, J)          # ψ\n",
    "y_vals = linspace(0.0005, 0.01, J)        # μ"
   ]
  },
  {
   "cell_type": "code",
   "execution_count": 4,
   "metadata": {},
   "outputs": [
    {
     "ename": "LoadError",
     "evalue": "\u001b[91mUndefVarError: x_vals not defined\u001b[39m",
     "output_type": "error",
     "traceback": [
      "\u001b[91mUndefVarError: x_vals not defined\u001b[39m",
      "",
      "Stacktrace:",
      " [1] \u001b[1manonymous\u001b[22m\u001b[22m at \u001b[1m./<missing>:?\u001b[22m\u001b[22m",
      " [2] \u001b[1minclude_string\u001b[22m\u001b[22m\u001b[1m(\u001b[22m\u001b[22m::String, ::String\u001b[1m)\u001b[22m\u001b[22m at \u001b[1m./loading.jl:515\u001b[22m\u001b[22m"
     ]
    }
   ],
   "source": [
    "for (i, x) in enumerate(x_vals)\n",
    "    for (j, y) in enumerate(y_vals)\n",
    "        ez = EpsteinZinBY(ψ=x)\n",
    "        @assert ez.θ < 0 \"Detected non-negative theta value\"\n",
    "        K = compute_K_bansal_yaron(ez, sv_bky, μ=y)\n",
    "        R[i, j] = compute_spec_rad(K)\n",
    "    end\n",
    "end"
   ]
  },
  {
   "cell_type": "code",
   "execution_count": 5,
   "metadata": {},
   "outputs": [
    {
     "ename": "LoadError",
     "evalue": "\u001b[91mUndefVarError: x_vals not defined\u001b[39m",
     "output_type": "error",
     "traceback": [
      "\u001b[91mUndefVarError: x_vals not defined\u001b[39m",
      "",
      "Stacktrace:",
      " [1] \u001b[1minclude_string\u001b[22m\u001b[22m\u001b[1m(\u001b[22m\u001b[22m::String, ::String\u001b[1m)\u001b[22m\u001b[22m at \u001b[1m./loading.jl:515\u001b[22m\u001b[22m"
     ]
    }
   ],
   "source": [
    "fig, ax = plt.subplots(figsize=(10, 5.7))\n",
    "\n",
    "#lvs = [0.0, 0.8, 1.0, 1.4, 1.8, 2.2, 4.4]\n",
    "#cls = [cm.jet(i) for i in np.linspace(0.4, 1, len(lvs))]\n",
    "\n",
    "cs1 = ax[:contourf](x_vals, \n",
    "                    y_vals, \n",
    "                    R',\n",
    "                    alpha=0.6)\n",
    "                    #levels=lvs,\n",
    "\n",
    "\n",
    "ctr1 = ax[:contour](x_vals, \n",
    "                    y_vals, \n",
    "                    R', \n",
    "                    levels=[1.0])\n",
    "\n",
    "plt.clabel(ctr1, inline=1, fontsize=13)\n",
    "plt.colorbar(cs1, ax=ax)\n",
    "\n",
    "ax[:set_title](\"Spectral radius\")\n",
    "ax[:set_xlabel](\"ψ\", fontsize=16)\n",
    "ax[:set_ylabel](\"μ\", fontsize=16)\n",
    "\n",
    "\n",
    "ax[:annotate](\"Bansal-Kiku-Yaron\", \n",
    "         xy=(1.5 + 0.024, 0.0015 - 0.0001),  \n",
    "         xycoords=\"data\",\n",
    "         xytext=(5, 40),\n",
    "         textcoords=\"offset points\",\n",
    "         fontsize=12,\n",
    "         arrowprops=Dict(\"arrowstyle\" => \"->\"))\n",
    "\n",
    "ax[:plot]([1.5], [0.0015],  \"ko\", alpha=0.6)\n",
    "\n",
    "plt.savefig(\"bky.pdf\")\n",
    "plt.show()"
   ]
  },
  {
   "cell_type": "code",
   "execution_count": null,
   "metadata": {
    "collapsed": true
   },
   "outputs": [],
   "source": []
  }
 ],
 "metadata": {
  "kernelspec": {
   "display_name": "Julia 0.6.0",
   "language": "julia",
   "name": "julia-0.6"
  },
  "language_info": {
   "file_extension": ".jl",
   "mimetype": "application/julia",
   "name": "julia",
   "version": "0.6.0"
  }
 },
 "nbformat": 4,
 "nbformat_minor": 2
}
