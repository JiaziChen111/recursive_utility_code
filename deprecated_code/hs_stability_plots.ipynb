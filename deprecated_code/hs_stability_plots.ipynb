{
 "cells": [
  {
   "cell_type": "markdown",
   "metadata": {},
   "source": [
    "## Spectral radius plots, EZ model"
   ]
  },
  {
   "cell_type": "markdown",
   "metadata": {},
   "source": [
    "\n",
    "We compute the approximate spectral radius of the operator\n",
    "\n",
    "$$    Kf(x) = \\beta^\\theta \\int f(y) \\exp[ (1 - \\gamma) y] q(x, y) dy $$\n",
    "\n",
    "when $q(x, y)$ is the stochastic kernel of the process\n",
    "\n",
    "$$    X_{t+1} = a X_t + b + \\sigma W_{t+1} $$\n",
    "\n",
    "To approximate we discretize the AR(1) process into a Markov matrix and then compute the spectral radius of $K$, with integral replaced by sum.\n"
   ]
  },
  {
   "cell_type": "code",
   "execution_count": 87,
   "metadata": {
    "collapsed": true
   },
   "outputs": [],
   "source": [
    "import matplotlib.pyplot as plt\n",
    "import numpy as np\n",
    "from matplotlib import cm\n",
    "from scipy.linalg import eigvals\n",
    "import quantecon as qe"
   ]
  },
  {
   "cell_type": "code",
   "execution_count": 162,
   "metadata": {
    "collapsed": true
   },
   "outputs": [],
   "source": [
    "n = 30 # size of state space"
   ]
  },
  {
   "cell_type": "markdown",
   "metadata": {},
   "source": [
    "The next function reads in a model and returns the spectral radius of the K operator"
   ]
  },
  {
   "cell_type": "code",
   "execution_count": 163,
   "metadata": {},
   "outputs": [],
   "source": [
    "def ez_operator_spec_rad(beta, gamma, rho, mc):\n",
    "    theta = (1 - gamma) / (1 - rho)\n",
    "    K0 = mc.P * np.exp((1 - gamma) * mc.state_values)\n",
    "    return (beta**theta) * max(abs(eigvals(K0)))"
   ]
  },
  {
   "cell_type": "markdown",
   "metadata": {},
   "source": [
    "Let's test the code:"
   ]
  },
  {
   "cell_type": "code",
   "execution_count": 164,
   "metadata": {
    "collapsed": true
   },
   "outputs": [],
   "source": [
    "beta = 0.98\n",
    "gamma = 10\n",
    "rho = 0.66\n",
    "sigma = 0.02\n",
    "a = 0.1\n",
    "b = 0.02"
   ]
  },
  {
   "cell_type": "code",
   "execution_count": 165,
   "metadata": {},
   "outputs": [
    {
     "data": {
      "text/plain": [
       "array([-0.08602366, -0.07855843, -0.0710932 , -0.06362796, -0.05616273,\n",
       "       -0.0486975 , -0.04123226, -0.03376703, -0.0263018 , -0.01883656,\n",
       "       -0.01137133, -0.00390609,  0.00355914,  0.01102437,  0.01848961,\n",
       "        0.02595484,  0.03342007,  0.04088531,  0.04835054,  0.05581577,\n",
       "        0.06328101,  0.07074624,  0.07821147,  0.08567671,  0.09314194,\n",
       "        0.10060717,  0.10807241,  0.11553764,  0.12300287,  0.13046811])"
      ]
     },
     "execution_count": 165,
     "metadata": {},
     "output_type": "execute_result"
    }
   ],
   "source": [
    "mc = qe.rouwenhorst(n, b, sigma, a)\n",
    "mc.state_values"
   ]
  },
  {
   "cell_type": "code",
   "execution_count": 166,
   "metadata": {},
   "outputs": [
    {
     "data": {
      "text/plain": [
       "1.4258540997275391"
      ]
     },
     "execution_count": 166,
     "metadata": {},
     "output_type": "execute_result"
    }
   ],
   "source": [
    "ez_operator_spec_rad(beta, gamma, rho, mc)"
   ]
  },
  {
   "cell_type": "code",
   "execution_count": null,
   "metadata": {
    "collapsed": true
   },
   "outputs": [],
   "source": []
  },
  {
   "cell_type": "markdown",
   "metadata": {},
   "source": [
    "### Stability plots with contours"
   ]
  },
  {
   "cell_type": "code",
   "execution_count": 167,
   "metadata": {},
   "outputs": [
    {
     "data": {
      "image/png": "[encoded data removed]",
      "text/plain": [
       "<matplotlib.figure.Figure at 0x7f677aeaa0b8>"
      ]
     },
     "metadata": {},
     "output_type": "display_data"
    }
   ],
   "source": [
    "m = 20 # grid size\n",
    "x_vals = np.linspace(0.95, 0.98, m) # beta\n",
    "y_vals = np.linspace(4, 10, m)  # gamma\n",
    "\n",
    "R = np.empty((m, m))\n",
    "\n",
    "for i, beta in enumerate(x_vals):\n",
    "    for j, gamma in enumerate(y_vals):\n",
    "    #mc = qe.rouwenhorst(n, b, sigma, a)\n",
    "        R[i, j] = ez_operator_spec_rad(beta, gamma, rho, mc)\n",
    "\n",
    "fig, ax = plt.subplots(figsize=(12, 8))\n",
    "\n",
    "lvs = [0.0, 0.8, 1.0, 1.4, 1.8, 2.2, 4.4]\n",
    "cls = [cm.jet(i) for i in np.linspace(0.4, 1, len(lvs))]\n",
    "\n",
    "cs1 = ax.contourf(x_vals, \n",
    "            y_vals, \n",
    "            R.T,\n",
    "            levels=lvs,\n",
    "            cmap=cm.jet,\n",
    "            alpha=0.6)\n",
    "\n",
    "ctr1 = ax.contour(x_vals, y_vals, R.T, levels=[1.0], linewidths=2)\n",
    "plt.clabel(ctr1, inline=1, fontsize=13)\n",
    "plt.colorbar(cs1, ax=ax)\n",
    "\n",
    "ax.set_title(r'Spectral radius'.format(rho))\n",
    "ax.set_xlabel(r'$\\beta$', fontsize=16)\n",
    "ax.set_ylabel(r'$\\gamma$', fontsize=16)\n",
    "\n",
    "plt.show()"
   ]
  },
  {
   "cell_type": "code",
   "execution_count": 168,
   "metadata": {},
   "outputs": [
    {
     "data": {
      "image/png": "[encoded data removed]",
      "text/plain": [
       "<matplotlib.figure.Figure at 0x7f67854896a0>"
      ]
     },
     "metadata": {},
     "output_type": "display_data"
    }
   ],
   "source": [
    "m = 20 # grid size\n",
    "x_vals = np.linspace(0.95, 0.98, m) # beta\n",
    "y_vals = np.linspace(0.88, 0.91, m)  # sigma\n",
    "\n",
    "R = np.empty((m, m))\n",
    "\n",
    "for i, beta in enumerate(x_vals):\n",
    "    for j, sigma in enumerate(y_vals):\n",
    "        mc = qe.rouwenhorst(n, b, sigma, a)\n",
    "        R[i, j] = ez_operator_spec_rad(beta, gamma, rho, mc)\n",
    "\n",
    "fig, ax = plt.subplots(figsize=(12, 8))\n",
    "\n",
    "lvs = [0.0, 0.4, 1.0, 2.2, 4.4, 8, 20]\n",
    "cls = [cm.jet(i) for i in np.linspace(0.4, 1, len(lvs))]\n",
    "\n",
    "cs1 = ax.contourf(x_vals, \n",
    "            y_vals, \n",
    "            R.T,\n",
    "            levels=lvs,\n",
    "            cmap=cm.jet,\n",
    "            alpha=0.6)\n",
    "\n",
    "ctr1 = ax.contour(x_vals, y_vals, R.T, levels=[1.0], linewidths=2)\n",
    "plt.clabel(ctr1, inline=1, fontsize=13)\n",
    "plt.colorbar(cs1, ax=ax)\n",
    "\n",
    "ax.set_title(r'Spectral radius'.format(rho))\n",
    "ax.set_xlabel(r'$\\beta$', fontsize=16)\n",
    "ax.set_ylabel(r'$\\sigma$', fontsize=16)\n",
    "\n",
    "plt.show()"
   ]
  },
  {
   "cell_type": "markdown",
   "metadata": {
    "collapsed": true
   },
   "source": [
    "### Code below is for testing Rouwenhorst, probably redundant"
   ]
  },
  {
   "cell_type": "markdown",
   "metadata": {},
   "source": [
    "Let's do some tests to make sure the Markov chain is relatively well behaved.  The mean and variance of the stationary distribution should be close to $b/(1 - a)$ and $\\sigma^2 / (1 - a^2)$ respectively"
   ]
  },
  {
   "cell_type": "code",
   "execution_count": 68,
   "metadata": {},
   "outputs": [
    {
     "data": {
      "text/plain": [
       "(10.000000000000002, 0.052631578947368446)"
      ]
     },
     "execution_count": 68,
     "metadata": {},
     "output_type": "execute_result"
    }
   ],
   "source": [
    "b / (1 - a), sigma**2 / (1 - a**2)"
   ]
  },
  {
   "cell_type": "code",
   "execution_count": 69,
   "metadata": {
    "collapsed": true
   },
   "outputs": [],
   "source": [
    "psi = mc.stationary_distributions"
   ]
  },
  {
   "cell_type": "code",
   "execution_count": 70,
   "metadata": {},
   "outputs": [],
   "source": [
    "psi = psi.flatten()"
   ]
  },
  {
   "cell_type": "code",
   "execution_count": 71,
   "metadata": {},
   "outputs": [
    {
     "data": {
      "image/png": "[encoded data removed]",
      "text/plain": [
       "<matplotlib.figure.Figure at 0x7fdf6b3d0128>"
      ]
     },
     "metadata": {},
     "output_type": "display_data"
    }
   ],
   "source": [
    "fig, ax = plt.subplots(figsize=(10, 7))\n",
    "ax.get_xaxis().get_major_formatter().set_useOffset(False)\n",
    "\n",
    "ax.plot(mc.state_values, psi, 'o-')\n",
    "plt.show()"
   ]
  },
  {
   "cell_type": "code",
   "execution_count": 72,
   "metadata": {},
   "outputs": [
    {
     "data": {
      "text/plain": [
       "10.000000000000002"
      ]
     },
     "execution_count": 72,
     "metadata": {},
     "output_type": "execute_result"
    }
   ],
   "source": [
    "s = mc.state_values\n",
    "mu = np.sum(s * psi)\n",
    "mu"
   ]
  },
  {
   "cell_type": "code",
   "execution_count": 73,
   "metadata": {},
   "outputs": [
    {
     "data": {
      "text/plain": [
       "0.052631578947368481"
      ]
     },
     "execution_count": 73,
     "metadata": {},
     "output_type": "execute_result"
    }
   ],
   "source": [
    "v = np.sum((s - mu)**2 * psi)\n",
    "v"
   ]
  },
  {
   "cell_type": "code",
   "execution_count": 74,
   "metadata": {},
   "outputs": [
    {
     "data": {
      "text/plain": [
       "array([  8.87609703,   8.96975561,   9.06341419,   9.15707277,\n",
       "         9.25073135,   9.34438993,   9.43804851,   9.53170709,\n",
       "         9.62536568,   9.71902426,   9.81268284,   9.90634142,\n",
       "        10.        ,  10.09365858,  10.18731716,  10.28097574,\n",
       "        10.37463432,  10.46829291,  10.56195149,  10.65561007,\n",
       "        10.74926865,  10.84292723,  10.93658581,  11.03024439,  11.12390297])"
      ]
     },
     "execution_count": 74,
     "metadata": {},
     "output_type": "execute_result"
    }
   ],
   "source": [
    "mc.state_values"
   ]
  }
 ],
 "metadata": {
  "anaconda-cloud": {},
  "kernelspec": {
   "display_name": "Python 3",
   "language": "python",
   "name": "python3"
  },
  "language_info": {
   "codemirror_mode": {
    "name": "ipython",
    "version": 3
   },
   "file_extension": ".py",
   "mimetype": "text/x-python",
   "name": "python",
   "nbconvert_exporter": "python",
   "pygments_lexer": "ipython3",
   "version": "3.6.1"
  }
 },
 "nbformat": 4,
 "nbformat_minor": 1
}
