{
 "cells": [
  {
   "cell_type": "markdown",
   "metadata": {},
   "source": [
    "## Impact of Truncation of Shocks\n",
    "\n",
    "These calculations test the impact of truncating the innovations to the Bansal-Yaron process on the spectral radius results."
   ]
  },
  {
   "cell_type": "code",
   "execution_count": 51,
   "metadata": {},
   "outputs": [
    {
     "name": "stderr",
     "output_type": "stream",
     "text": [
      "\u001b[1m\u001b[33mWARNING: \u001b[39m\u001b[22m\u001b[33mreplacing docs for 'EpsteinZin :: Union{}' in module 'Main'.\u001b[39m\n",
      "\u001b[1m\u001b[33mWARNING: \u001b[39m\u001b[22m\u001b[33mreplacing docs for 'EpsteinZinBY :: Tuple{}' in module 'Main'.\u001b[39m\n",
      "\u001b[1m\u001b[33mWARNING: \u001b[39m\u001b[22m\u001b[33mreplacing docs for 'EpsteinZinSSY :: Tuple{}' in module 'Main'.\u001b[39m\n",
      "\u001b[1m\u001b[33mWARNING: \u001b[39m\u001b[22m\u001b[33mreplacing docs for 'BYconsumption :: Union{}' in module 'Main'.\u001b[39m\n",
      "\u001b[1m\u001b[33mWARNING: \u001b[39m\u001b[22m\u001b[33mreplacing docs for 'BYconsumption :: Tuple{}' in module 'Main'.\u001b[39m\n",
      "\u001b[1m\u001b[33mWARNING: \u001b[39m\u001b[22m\u001b[33mreplacing docs for 'compute_bounds :: Tuple{BYconsumption}' in module 'Main'.\u001b[39m\n",
      "\u001b[1m\u001b[33mWARNING: \u001b[39m\u001b[22m\u001b[33mreplacing docs for 'K_interp! :: Tuple{EpsteinZin,BYconsumption,Array{Float64,2},Array{Float64,2},AbstractArray{T,1} where T,AbstractArray{T,1} where T,Array{Float64,1},Array{Float64,1}}' in module 'Main'.\u001b[39m\n",
      "\u001b[1m\u001b[33mWARNING: \u001b[39m\u001b[22m\u001b[33mreplacing docs for 'K_interp! :: Tuple{EpsteinZin,BYconsumption,Array{Float64,2},Array{Float64,2},AbstractArray{T,1} where T,AbstractArray{T,1} where T}' in module 'Main'.\u001b[39m\n",
      "\u001b[1m\u001b[33mWARNING: \u001b[39m\u001b[22m\u001b[33mreplacing docs for 'compute_spec_rad_interp! :: Tuple{EpsteinZin,BYconsumption,Any,Any,Any}' in module 'Main'.\u001b[39m\n",
      "\u001b[1m\u001b[33mWARNING: \u001b[39m\u001b[22m\u001b[33mreplacing docs for 'compute_mm_coef_interp :: Tuple{EpsteinZin,BYconsumption}' in module 'Main'.\u001b[39m\n"
     ]
    },
    {
     "data": {
      "text/plain": [
       "compute_mm_coef_interp"
      ]
     },
     "execution_count": 51,
     "metadata": {},
     "output_type": "execute_result"
    }
   ],
   "source": [
    "include(\"src/by_interpolation.jl\")"
   ]
  },
  {
   "cell_type": "code",
   "execution_count": 10,
   "metadata": {},
   "outputs": [
    {
     "name": "stderr",
     "output_type": "stream",
     "text": [
      "\u001b[1m\u001b[33mWARNING: \u001b[39m\u001b[22m\u001b[33mreplacing docs for 'compute_spec_rad_mc! :: Tuple{EpsteinZin,BYconsumption,Any,Any}' in module 'Main'.\u001b[39m\n"
     ]
    },
    {
     "data": {
      "text/plain": [
       "compute_spec_rad_mc!"
      ]
     },
     "execution_count": 10,
     "metadata": {},
     "output_type": "execute_result"
    }
   ],
   "source": [
    "\"\"\"\n",
    "Compute the spectral radius by iteration.\n",
    "\n",
    "\"\"\"\n",
    "function compute_spec_rad_mc!(ez::EpsteinZin, \n",
    "                                 by::BYconsumption,\n",
    "                                 z_grid,\n",
    "                                 σ_grid;\n",
    "                                 n=100,\n",
    "                                 truncate=t,\n",
    "                                 tol=1e-6, \n",
    "                                 max_iter=5000) \n",
    "    g_in = ones(gs_z, gs_σ)\n",
    "    g_out = similar(g_in)\n",
    "\n",
    "    error = tol + 1\n",
    "    r = 1\n",
    "    i = 1\n",
    "    \n",
    "    srand(1234)\n",
    "    η_vec = randn(n)\n",
    "    ω_vec = randn(n)\n",
    "    for vec in (η_vec, ω_vec)\n",
    "        for (i, z) in enumerate(vec)\n",
    "            if z > truncate\n",
    "                vec[i] = truncate\n",
    "            elseif z < -truncate\n",
    "                vec[i] = - truncate\n",
    "            end\n",
    "        end\n",
    "    end\n",
    "\n",
    "    while error > tol && i < max_iter\n",
    "        s = K_interp!(ez, by, g_in, g_out, z_grid, σ_grid, η_vec, ω_vec)\n",
    "        new_r = s^(1/i)\n",
    "        error = abs(new_r - r)\n",
    "        copy!(g_in, g_out)\n",
    "        i += 1\n",
    "        r = new_r\n",
    "    end\n",
    "\n",
    "    return r\n",
    "end\n"
   ]
  },
  {
   "cell_type": "code",
   "execution_count": 11,
   "metadata": {},
   "outputs": [
    {
     "data": {
      "text/plain": [
       "BYconsumption{Float64}(0.0015, 0.979, 0.044, 0.987, 7.9092e-7, 2.3e-6)"
      ]
     },
     "execution_count": 11,
     "metadata": {},
     "output_type": "execute_result"
    }
   ],
   "source": [
    "ez = EpsteinZinBY()\n",
    "by = BYconsumption()"
   ]
  },
  {
   "cell_type": "code",
   "execution_count": 12,
   "metadata": {},
   "outputs": [
    {
     "data": {
      "text/plain": [
       "-0.0033004886620103245:0.0006016806175855395:0.00331799813143061"
      ]
     },
     "execution_count": 12,
     "metadata": {},
     "output_type": "execute_result"
    }
   ],
   "source": [
    "gs_z, gs_σ = 12, 12\n",
    "\n",
    "z_min, z_max, σ_min, σ_max, c_max = compute_bounds(by)\n",
    "σ_grid = linspace(σ_min, σ_max, gs_z)\n",
    "z_grid = linspace(z_min, z_max, gs_σ)"
   ]
  },
  {
   "cell_type": "code",
   "execution_count": 19,
   "metadata": {},
   "outputs": [
    {
     "data": {
      "text/plain": [
       "0.5:0.10526315789473684:2.5"
      ]
     },
     "execution_count": 19,
     "metadata": {},
     "output_type": "execute_result"
    }
   ],
   "source": [
    "t_vec = linspace(0.5, 2.5, 20)"
   ]
  },
  {
   "cell_type": "code",
   "execution_count": 20,
   "metadata": {},
   "outputs": [],
   "source": [
    "rs = similar(t_vec)\n",
    "for (i, t) in enumerate(t_vec)\n",
    "    rs[i] = compute_spec_rad_mc!(ez, by, z_grid, σ_grid, truncate=t)\n",
    "end"
   ]
  },
  {
   "cell_type": "code",
   "execution_count": 49,
   "metadata": {},
   "outputs": [
    {
     "data": {
      "text/plain": [
       "PyPlot"
      ]
     },
     "execution_count": 49,
     "metadata": {},
     "output_type": "execute_result"
    }
   ],
   "source": [
    "using PyPlot\n",
    "plt = PyPlot"
   ]
  },
  {
   "cell_type": "code",
   "execution_count": 50,
   "metadata": {},
   "outputs": [
    {
     "data": {
      "image/png": "[encoded data removed]",
      "text/plain": [
       "PyPlot.Figure(PyObject <matplotlib.figure.Figure object at 0x7fc405916128>)"
      ]
     },
     "metadata": {},
     "output_type": "display_data"
    }
   ],
   "source": [
    "fig, ax = plt.subplots(figsize=(7, 4))\n",
    "ax[:plot](t_vec, rs)\n",
    "ax[:grid]()\n",
    "ax[:set](ylim=(1.06, 1.074), xlim=(0.5, 3.0), xlabel=\"truncation value\", ylabel=\"spectral radius\")\n",
    "ax[:legend]()\n",
    "plt.savefig(\"errors.pdf\")\n",
    "plt.show()"
   ]
  },
  {
   "cell_type": "code",
   "execution_count": 41,
   "metadata": {},
   "outputs": [
    {
     "data": {
      "text/html": [
       "2.9870828376083063"
      ],
      "text/plain": [
       "2.9870828376083063"
      ]
     },
     "execution_count": 41,
     "metadata": {},
     "output_type": "execute_result"
    }
   ],
   "source": [
    "quantile(randn(10000), 0.999)"
   ]
  },
  {
   "cell_type": "code",
   "execution_count": null,
   "metadata": {
    "collapsed": true
   },
   "outputs": [],
   "source": []
  }
 ],
 "metadata": {
  "kernelspec": {
   "display_name": "Julia 0.6.0",
   "language": "julia",
   "name": "julia-0.6"
  },
  "language_info": {
   "file_extension": ".jl",
   "mimetype": "application/julia",
   "name": "julia",
   "version": "0.6.0"
  }
 },
 "nbformat": 4,
 "nbformat_minor": 2
}
